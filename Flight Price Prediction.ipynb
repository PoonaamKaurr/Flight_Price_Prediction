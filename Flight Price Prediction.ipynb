{
 "cells": [
  {
   "cell_type": "markdown",
   "id": "6ea77a5e",
   "metadata": {},
   "source": [
    "### FLIGHT PRICE PREDICTION Scrapping\n"
   ]
  },
  {
   "cell_type": "markdown",
   "id": "47cd5d81",
   "metadata": {},
   "source": [
    "#### Problem Statement:\n",
    "Anyone who has booked a flight ticket knows how unexpectedly the prices vary. The cheapest available ticket on a given flight gets more and less expensive over time. This usually happens as an attempt to maximize revenue based on -\n",
    "\n",
    "1. Time of purchase patterns (making sure last-minute purchases are expensive)\n",
    "\n",
    "2. Keeping the flight as full as they want it (raising prices on a flight which is filling up in order to reduce sales            and hold back inventory for those expensive last-minute expensive purchases)\n",
    "\n",
    "So, you have to work on a project where you collect data of flight fares with other features and work to make a model to predict fares of flights."
   ]
  },
  {
   "cell_type": "markdown",
   "id": "06e70b48",
   "metadata": {},
   "source": [
    "1. Data Collection:\n",
    "Scrapped 1501 rows of data from website: Yatra.com \n",
    "The number of columns are:\n",
    "\n",
    "Features:\n",
    " * Airline \n",
    " * Date of Journey,\n",
    " * Source,\n",
    " * Destination,\n",
    " * Departure Time,\n",
    " * Arrival Time,\n",
    " * Duration,\n",
    " * Total Stops and Price"
   ]
  },
  {
   "cell_type": "markdown",
   "id": "f8a403ea",
   "metadata": {},
   "source": [
    "2. Data Analysis:\n",
    " * After cleaning the data, you have to do some analysis on the data.\n",
    " * Do airfares change frequently?\n",
    " * Do they move in small increments or in large jumps?\n",
    " * Do they tend to go up or down over time?\n",
    " * What is the best time to buy so that the consumer can save the most by taking the least risk?\n",
    " * Does price increase as we get near to departure date?\n",
    " * Is Indigo cheaper than Jet Airways?\n",
    " * Are morning flights expensive?"
   ]
  },
  {
   "cell_type": "markdown",
   "id": "9c8265d5",
   "metadata": {},
   "source": [
    "3. Model Building:\n",
    "After collecting the data, you need to build a machine learning model. Before model building do all data pre-processing steps. Try different models with different hyper parameters and select the bestmodel. Follow the complete life cycle of data science. Include all the steps like:\n",
    "\n",
    " * Data Cleaning\n",
    " * Exploratory Data Analysis\n",
    " * Data Pre-processing\n",
    " * Model Building\n",
    " * Model Evaluation\n",
    " * Selecting the best model"
   ]
  },
  {
   "cell_type": "code",
   "execution_count": 153,
   "id": "5157826b",
   "metadata": {},
   "outputs": [],
   "source": [
    "import pandas as pd\n",
    "import numpy as np\n",
    "import matplotlib.pyplot as plt \n",
    "%matplotlib inline\n",
    "import seaborn as sns\n",
    "import warnings\n",
    "warnings.filterwarnings('ignore')\n",
    "\n",
    "from scipy.stats import zscore\n",
    "from sklearn.preprocessing  import power_transform, StandardScaler, LabelEncoder\n",
    "from sklearn.feature_selection import VarianceThreshold, SelectKBest, f_classif\n",
    "from statsmodels.stats.outliers_influence import variance_inflation_factor\n",
    "from sklearn.model_selection import train_test_split, GridSearchCV,cross_val_score\n",
    "from sklearn.linear_model import LinearRegression\n",
    "from sklearn.metrics import roc_curve, auc, roc_auc_score, plot_roc_curve, r2_score, classification_report, mean_absolute_error, mean_squared_error\n",
    "from sklearn.metrics import confusion_matrix, mean_absolute_error, mean_squared_error\n",
    "from sklearn.ensemble import RandomForestRegressor, GradientBoostingRegressor\n",
    "from sklearn.neighbors import KNeighborsRegressor\n",
    "from sklearn.tree import DecisionTreeRegressor\n",
    "from sklearn.svm import SVR\n",
    "\n",
    "import pickle"
   ]
  },
  {
   "cell_type": "code",
   "execution_count": 154,
   "id": "76f57bf2",
   "metadata": {},
   "outputs": [],
   "source": [
    "flight=pd.read_csv(\"flight.csv\")"
   ]
  },
  {
   "cell_type": "code",
   "execution_count": 155,
   "id": "c298d45e",
   "metadata": {},
   "outputs": [],
   "source": [
    "pd.set_option(\"display.max_columns\",None)"
   ]
  },
  {
   "cell_type": "code",
   "execution_count": 156,
   "id": "c73e02f1",
   "metadata": {},
   "outputs": [
    {
     "data": {
      "text/html": [
       "<div>\n",
       "<style scoped>\n",
       "    .dataframe tbody tr th:only-of-type {\n",
       "        vertical-align: middle;\n",
       "    }\n",
       "\n",
       "    .dataframe tbody tr th {\n",
       "        vertical-align: top;\n",
       "    }\n",
       "\n",
       "    .dataframe thead th {\n",
       "        text-align: right;\n",
       "    }\n",
       "</style>\n",
       "<table border=\"1\" class=\"dataframe\">\n",
       "  <thead>\n",
       "    <tr style=\"text-align: right;\">\n",
       "      <th></th>\n",
       "      <th>Airline</th>\n",
       "      <th>Date_of_Journey</th>\n",
       "      <th>Source</th>\n",
       "      <th>Destination</th>\n",
       "      <th>Dep_Time</th>\n",
       "      <th>Arrival_Time</th>\n",
       "      <th>Duration</th>\n",
       "      <th>Total_Stops</th>\n",
       "      <th>Price</th>\n",
       "    </tr>\n",
       "  </thead>\n",
       "  <tbody>\n",
       "    <tr>\n",
       "      <th>0</th>\n",
       "      <td>Go First</td>\n",
       "      <td>24/9/2022</td>\n",
       "      <td>Bangalore</td>\n",
       "      <td>New Delhi</td>\n",
       "      <td>20:35</td>\n",
       "      <td>8:05</td>\n",
       "      <td>2h 05m</td>\n",
       "      <td>Non Stop</td>\n",
       "      <td>5,950</td>\n",
       "    </tr>\n",
       "    <tr>\n",
       "      <th>1</th>\n",
       "      <td>Go First</td>\n",
       "      <td>21/9/2022</td>\n",
       "      <td>Kolkata</td>\n",
       "      <td>Bangalore</td>\n",
       "      <td>22:00</td>\n",
       "      <td>10:10</td>\n",
       "      <td>2h 10m</td>\n",
       "      <td>Non Stop</td>\n",
       "      <td>5,950</td>\n",
       "    </tr>\n",
       "    <tr>\n",
       "      <th>2</th>\n",
       "      <td>Go First</td>\n",
       "      <td>16/9/2022</td>\n",
       "      <td>Delhi</td>\n",
       "      <td>Mumbai</td>\n",
       "      <td>23:05</td>\n",
       "      <td>15:10</td>\n",
       "      <td>2h 05m</td>\n",
       "      <td>Non Stop</td>\n",
       "      <td>5,950</td>\n",
       "    </tr>\n",
       "    <tr>\n",
       "      <th>3</th>\n",
       "      <td>Go First</td>\n",
       "      <td>24/9/2022</td>\n",
       "      <td>Mumbai</td>\n",
       "      <td>Rajasthan</td>\n",
       "      <td>23:55</td>\n",
       "      <td>16:40</td>\n",
       "      <td>2h 10m</td>\n",
       "      <td>Non Stop</td>\n",
       "      <td>5,950</td>\n",
       "    </tr>\n",
       "    <tr>\n",
       "      <th>4</th>\n",
       "      <td>SpiceJet</td>\n",
       "      <td>24/9/2022</td>\n",
       "      <td>Bangalore</td>\n",
       "      <td>Chennai</td>\n",
       "      <td>1:00</td>\n",
       "      <td>9:35</td>\n",
       "      <td>2h 05m</td>\n",
       "      <td>Non Stop</td>\n",
       "      <td>5,950</td>\n",
       "    </tr>\n",
       "  </tbody>\n",
       "</table>\n",
       "</div>"
      ],
      "text/plain": [
       "    Airline Date_of_Journey     Source Destination Dep_Time Arrival_Time  \\\n",
       "0  Go First       24/9/2022  Bangalore   New Delhi    20:35         8:05   \n",
       "1  Go First       21/9/2022    Kolkata   Bangalore    22:00        10:10   \n",
       "2  Go First       16/9/2022      Delhi      Mumbai    23:05        15:10   \n",
       "3  Go First       24/9/2022     Mumbai   Rajasthan    23:55        16:40   \n",
       "4  SpiceJet       24/9/2022  Bangalore     Chennai     1:00         9:35   \n",
       "\n",
       "  Duration Total_Stops  Price  \n",
       "0   2h 05m    Non Stop  5,950  \n",
       "1   2h 10m    Non Stop  5,950  \n",
       "2   2h 05m    Non Stop  5,950  \n",
       "3   2h 10m    Non Stop  5,950  \n",
       "4   2h 05m    Non Stop  5,950  "
      ]
     },
     "execution_count": 156,
     "metadata": {},
     "output_type": "execute_result"
    }
   ],
   "source": [
    "flight.head()"
   ]
  },
  {
   "cell_type": "code",
   "execution_count": 157,
   "id": "3cd0e939",
   "metadata": {},
   "outputs": [
    {
     "data": {
      "text/plain": [
       "(1500, 9)"
      ]
     },
     "execution_count": 157,
     "metadata": {},
     "output_type": "execute_result"
    }
   ],
   "source": [
    "flight.shape"
   ]
  },
  {
   "cell_type": "code",
   "execution_count": 158,
   "id": "c586b924",
   "metadata": {},
   "outputs": [
    {
     "data": {
      "text/plain": [
       "Index(['Airline', 'Date_of_Journey', 'Source', 'Destination', 'Dep_Time',\n",
       "       'Arrival_Time', 'Duration', 'Total_Stops', 'Price'],\n",
       "      dtype='object')"
      ]
     },
     "execution_count": 158,
     "metadata": {},
     "output_type": "execute_result"
    }
   ],
   "source": [
    "flight.columns"
   ]
  },
  {
   "cell_type": "markdown",
   "id": "a626d806",
   "metadata": {},
   "source": [
    "### Checking Data Type of all data"
   ]
  },
  {
   "cell_type": "code",
   "execution_count": 159,
   "id": "d8920d06",
   "metadata": {},
   "outputs": [
    {
     "data": {
      "text/plain": [
       "Airline            object\n",
       "Date_of_Journey    object\n",
       "Source             object\n",
       "Destination        object\n",
       "Dep_Time           object\n",
       "Arrival_Time       object\n",
       "Duration           object\n",
       "Total_Stops        object\n",
       "Price              object\n",
       "dtype: object"
      ]
     },
     "execution_count": 159,
     "metadata": {},
     "output_type": "execute_result"
    }
   ],
   "source": [
    "flight.dtypes"
   ]
  },
  {
   "cell_type": "code",
   "execution_count": 160,
   "id": "bcbe7243",
   "metadata": {},
   "outputs": [
    {
     "data": {
      "text/plain": [
       "Airline            0\n",
       "Date_of_Journey    0\n",
       "Source             0\n",
       "Destination        0\n",
       "Dep_Time           0\n",
       "Arrival_Time       0\n",
       "Duration           0\n",
       "Total_Stops        0\n",
       "Price              0\n",
       "dtype: int64"
      ]
     },
     "execution_count": 160,
     "metadata": {},
     "output_type": "execute_result"
    }
   ],
   "source": [
    "flight.isnull().sum()"
   ]
  },
  {
   "cell_type": "markdown",
   "id": "18de5c3c",
   "metadata": {},
   "source": [
    "### Checking for Null Values through Heatmap"
   ]
  },
  {
   "cell_type": "code",
   "execution_count": 161,
   "id": "c41e43ed",
   "metadata": {},
   "outputs": [
    {
     "data": {
      "text/plain": [
       "<AxesSubplot:>"
      ]
     },
     "execution_count": 161,
     "metadata": {},
     "output_type": "execute_result"
    },
    {
     "data": {
      "image/png": "[encoded data removed]",
      "text/plain": [
       "<Figure size 432x288 with 2 Axes>"
      ]
     },
     "metadata": {
      "needs_background": "light"
     },
     "output_type": "display_data"
    }
   ],
   "source": [
    "sns.heatmap(flight.isnull())"
   ]
  },
  {
   "cell_type": "code",
   "execution_count": 162,
   "id": "5a348cf9",
   "metadata": {},
   "outputs": [
    {
     "data": {
      "text/plain": [
       "Airline            0\n",
       "Date_of_Journey    0\n",
       "Source             0\n",
       "Destination        0\n",
       "Dep_Time           0\n",
       "Arrival_Time       0\n",
       "Duration           0\n",
       "Total_Stops        0\n",
       "Price              0\n",
       "dtype: int64"
      ]
     },
     "execution_count": 162,
     "metadata": {},
     "output_type": "execute_result"
    }
   ],
   "source": [
    "(flight=='-').sum()"
   ]
  },
  {
   "cell_type": "markdown",
   "id": "185e366b",
   "metadata": {},
   "source": [
    "### Checking total number of unique value in each column of Dataset"
   ]
  },
  {
   "cell_type": "code",
   "execution_count": 163,
   "id": "65d42df8",
   "metadata": {},
   "outputs": [
    {
     "data": {
      "text/plain": [
       "Airline             6\n",
       "Date_of_Journey     5\n",
       "Source              4\n",
       "Destination         5\n",
       "Dep_Time           55\n",
       "Arrival_Time       30\n",
       "Duration           19\n",
       "Total_Stops         1\n",
       "Price              55\n",
       "dtype: int64"
      ]
     },
     "execution_count": 163,
     "metadata": {},
     "output_type": "execute_result"
    }
   ],
   "source": [
    "flight.nunique()"
   ]
  },
  {
   "cell_type": "code",
   "execution_count": 164,
   "id": "f20857d2",
   "metadata": {},
   "outputs": [
    {
     "name": "stdout",
     "output_type": "stream",
     "text": [
      "<class 'pandas.core.frame.DataFrame'>\n",
      "RangeIndex: 1500 entries, 0 to 1499\n",
      "Data columns (total 9 columns):\n",
      " #   Column           Non-Null Count  Dtype \n",
      "---  ------           --------------  ----- \n",
      " 0   Airline          1500 non-null   object\n",
      " 1   Date_of_Journey  1500 non-null   object\n",
      " 2   Source           1500 non-null   object\n",
      " 3   Destination      1500 non-null   object\n",
      " 4   Dep_Time         1500 non-null   object\n",
      " 5   Arrival_Time     1500 non-null   object\n",
      " 6   Duration         1500 non-null   object\n",
      " 7   Total_Stops      1500 non-null   object\n",
      " 8   Price            1500 non-null   object\n",
      "dtypes: object(9)\n",
      "memory usage: 105.6+ KB\n"
     ]
    }
   ],
   "source": [
    "flight.info()"
   ]
  },
  {
   "cell_type": "code",
   "execution_count": 165,
   "id": "959f2c47",
   "metadata": {},
   "outputs": [
    {
     "data": {
      "text/plain": [
       "24/9/2022    1470\n",
       "21/9/2022      10\n",
       "16/9/2022      10\n",
       "4/9/2022        5\n",
       "2/9/2022        5\n",
       "Name: Date_of_Journey, dtype: int64"
      ]
     },
     "execution_count": 165,
     "metadata": {},
     "output_type": "execute_result"
    }
   ],
   "source": [
    "#checking all values of column 'Date_of_Journey'\n",
    "flight['Date_of_Journey'].value_counts()"
   ]
  },
  {
   "cell_type": "code",
   "execution_count": 166,
   "id": "a5e4103e",
   "metadata": {},
   "outputs": [],
   "source": [
    "#droping rows containing values \"-\"\n",
    "flight.drop(flight.loc[flight['Date_of_Journey'] == \"-\"].index, inplace=True)"
   ]
  },
  {
   "cell_type": "code",
   "execution_count": 167,
   "id": "4534eb4b",
   "metadata": {},
   "outputs": [
    {
     "data": {
      "text/plain": [
       "Airline            0\n",
       "Date_of_Journey    0\n",
       "Source             0\n",
       "Destination        0\n",
       "Dep_Time           0\n",
       "Arrival_Time       0\n",
       "Duration           0\n",
       "Total_Stops        0\n",
       "Price              0\n",
       "dtype: int64"
      ]
     },
     "execution_count": 167,
     "metadata": {},
     "output_type": "execute_result"
    }
   ],
   "source": [
    "#Checking again \"-\" values in column 'Date_of_Journey' after droping\n",
    "(flight=='-').sum()"
   ]
  },
  {
   "cell_type": "code",
   "execution_count": 168,
   "id": "12a3a019",
   "metadata": {},
   "outputs": [
    {
     "data": {
      "text/plain": [
       "Airline            0\n",
       "Date_of_Journey    0\n",
       "Source             0\n",
       "Destination        0\n",
       "Dep_Time           0\n",
       "Arrival_Time       0\n",
       "Duration           0\n",
       "Total_Stops        0\n",
       "Price              0\n",
       "dtype: int64"
      ]
     },
     "execution_count": 168,
     "metadata": {},
     "output_type": "execute_result"
    }
   ],
   "source": [
    "#Checking again \"Null\" values in dataset\n",
    "flight.isnull().sum()"
   ]
  },
  {
   "cell_type": "markdown",
   "id": "128ab1d0",
   "metadata": {},
   "source": [
    "### Extracting \"Day\", \"Date\" and \"Month\" from Column 'Date_of_Journey'\n"
   ]
  },
  {
   "cell_type": "code",
   "execution_count": 169,
   "id": "c210ff7c",
   "metadata": {},
   "outputs": [],
   "source": [
    "#converting into list for extraction\n",
    "Journey_Date= flight['Date_of_Journey'].tolist()"
   ]
  },
  {
   "cell_type": "code",
   "execution_count": 170,
   "id": "0fc3510f",
   "metadata": {},
   "outputs": [],
   "source": [
    "#creating empty list\n",
    "Day= []\n",
    "date = []\n",
    "Month = []\n",
    "Date = []"
   ]
  },
  {
   "cell_type": "code",
   "execution_count": 171,
   "id": "81ebc538",
   "metadata": {},
   "outputs": [],
   "source": [
    "#fetching data from 'date'\n",
    "for i in date:\n",
    "    Date.append(i.split(\" \")[2])\n",
    "    Month.append(i.split(\" \")[1])"
   ]
  },
  {
   "cell_type": "code",
   "execution_count": 172,
   "id": "c2436c78",
   "metadata": {},
   "outputs": [],
   "source": [
    "#droping column 'Date_of_Journey' as it is not required now. We have extracted data from it\n",
    "flight.drop(columns=['Date_of_Journey'], inplace= True)"
   ]
  },
  {
   "cell_type": "code",
   "execution_count": 173,
   "id": "1a4db99c",
   "metadata": {},
   "outputs": [
    {
     "data": {
      "text/html": [
       "<div>\n",
       "<style scoped>\n",
       "    .dataframe tbody tr th:only-of-type {\n",
       "        vertical-align: middle;\n",
       "    }\n",
       "\n",
       "    .dataframe tbody tr th {\n",
       "        vertical-align: top;\n",
       "    }\n",
       "\n",
       "    .dataframe thead th {\n",
       "        text-align: right;\n",
       "    }\n",
       "</style>\n",
       "<table border=\"1\" class=\"dataframe\">\n",
       "  <thead>\n",
       "    <tr style=\"text-align: right;\">\n",
       "      <th></th>\n",
       "      <th>Airline</th>\n",
       "      <th>Source</th>\n",
       "      <th>Destination</th>\n",
       "      <th>Dep_Time</th>\n",
       "      <th>Arrival_Time</th>\n",
       "      <th>Duration</th>\n",
       "      <th>Total_Stops</th>\n",
       "      <th>Price</th>\n",
       "    </tr>\n",
       "  </thead>\n",
       "  <tbody>\n",
       "    <tr>\n",
       "      <th>0</th>\n",
       "      <td>Go First</td>\n",
       "      <td>Bangalore</td>\n",
       "      <td>New Delhi</td>\n",
       "      <td>20:35</td>\n",
       "      <td>8:05</td>\n",
       "      <td>2h 05m</td>\n",
       "      <td>Non Stop</td>\n",
       "      <td>5,950</td>\n",
       "    </tr>\n",
       "    <tr>\n",
       "      <th>1</th>\n",
       "      <td>Go First</td>\n",
       "      <td>Kolkata</td>\n",
       "      <td>Bangalore</td>\n",
       "      <td>22:00</td>\n",
       "      <td>10:10</td>\n",
       "      <td>2h 10m</td>\n",
       "      <td>Non Stop</td>\n",
       "      <td>5,950</td>\n",
       "    </tr>\n",
       "    <tr>\n",
       "      <th>2</th>\n",
       "      <td>Go First</td>\n",
       "      <td>Delhi</td>\n",
       "      <td>Mumbai</td>\n",
       "      <td>23:05</td>\n",
       "      <td>15:10</td>\n",
       "      <td>2h 05m</td>\n",
       "      <td>Non Stop</td>\n",
       "      <td>5,950</td>\n",
       "    </tr>\n",
       "    <tr>\n",
       "      <th>3</th>\n",
       "      <td>Go First</td>\n",
       "      <td>Mumbai</td>\n",
       "      <td>Rajasthan</td>\n",
       "      <td>23:55</td>\n",
       "      <td>16:40</td>\n",
       "      <td>2h 10m</td>\n",
       "      <td>Non Stop</td>\n",
       "      <td>5,950</td>\n",
       "    </tr>\n",
       "    <tr>\n",
       "      <th>4</th>\n",
       "      <td>SpiceJet</td>\n",
       "      <td>Bangalore</td>\n",
       "      <td>Chennai</td>\n",
       "      <td>1:00</td>\n",
       "      <td>9:35</td>\n",
       "      <td>2h 05m</td>\n",
       "      <td>Non Stop</td>\n",
       "      <td>5,950</td>\n",
       "    </tr>\n",
       "  </tbody>\n",
       "</table>\n",
       "</div>"
      ],
      "text/plain": [
       "    Airline     Source Destination Dep_Time Arrival_Time Duration Total_Stops  \\\n",
       "0  Go First  Bangalore   New Delhi    20:35         8:05   2h 05m    Non Stop   \n",
       "1  Go First    Kolkata   Bangalore    22:00        10:10   2h 10m    Non Stop   \n",
       "2  Go First      Delhi      Mumbai    23:05        15:10   2h 05m    Non Stop   \n",
       "3  Go First     Mumbai   Rajasthan    23:55        16:40   2h 10m    Non Stop   \n",
       "4  SpiceJet  Bangalore     Chennai     1:00         9:35   2h 05m    Non Stop   \n",
       "\n",
       "   Price  \n",
       "0  5,950  \n",
       "1  5,950  \n",
       "2  5,950  \n",
       "3  5,950  \n",
       "4  5,950  "
      ]
     },
     "execution_count": 173,
     "metadata": {},
     "output_type": "execute_result"
    }
   ],
   "source": [
    "#checking dataset again\n",
    "flight.head()"
   ]
  },
  {
   "cell_type": "code",
   "execution_count": 174,
   "id": "11a9cb11",
   "metadata": {},
   "outputs": [],
   "source": [
    "#Driven_KiloMeters column:\n",
    "flight[\"Arrival_Time\"]= flight[\"Arrival_Time\"].str.replace('\\n', '')\n",
    "flight[\"Arrival_Time\"]= flight[\"Arrival_Time\"].str.replace('+', '')\n",
    "flight[\"Arrival_Time\"]= flight[\"Arrival_Time\"].str.replace(' ', '')\n",
    "flight[\"Arrival_Time\"]= flight[\"Arrival_Time\"].str.replace('1', '')\n",
    "flight[\"Arrival_Time\"]= flight[\"Arrival_Time\"].str.replace('day', '')"
   ]
  },
  {
   "cell_type": "code",
   "execution_count": 175,
   "id": "6a2c1a44",
   "metadata": {},
   "outputs": [],
   "source": [
    "flight['Arrival_Time'] = flight['Arrival_Time'].replace({':20':'0:20','8:5':'8:50','2:5':'2:50','7:5':'7:50','Dec 05':'Sun, Dec 5','Dec 06':'Mon, Dec 6','Dec 07':'Tue, Dec 7'})\n"
   ]
  },
  {
   "cell_type": "code",
   "execution_count": 176,
   "id": "e38ca4ed",
   "metadata": {},
   "outputs": [],
   "source": [
    "flight['Arrival_Time'] = flight['Arrival_Time'].replace({':20':'0:20','8:5':'08:50','2:5':'02:50','7:5':'07:50',':25':'00:25','0:0':'00:00','04:5':'04:50',\n",
    "                                                        '07:0':'07:00','2:0':'02:00','2:5':'02:50','07:5':'07:50',':55':'00:55','08:0':'08:00','08:5':'08:50',\n",
    "                                                         ':0':'00:00','4:0':'04:00','3:0':'03:00','8:0':'08:00','0:5':'00:50',':50':'00:50','00:5':'00:50','22:5':'22:50',\n",
    "                                                         '5:0':'05:00','00:0':'00:00','23:0':'23:00','09:0':'09:00',':45':'00:45','5:00':'05:00','4:00':'04:00','9:05':'09:05',\n",
    "                                                         '8:20':'08:20','2:45':'02:45', '7:05':'07:05', '2:20':'02:20', '5:20':'05:20',':05':'00:05', '9:20':'09:20',\n",
    "                                                        '8:45':'08:45','7:55':'07:55','6:5':'06:50','09:5':'09:50','3:35':'03:35','3:40':'03:40','06:5':'06:50',':40':'00:40',\n",
    "                                                         '8:55':'08:55','3:30':'03:30', '6:00':'06:00', '4:30':'04:30', '0:50':'00:50','9:55':'09:55', '23:5':'23:50', \n",
    "                                                        '2:40':'02:40', '0:20':'00:20', '4:45':'0:45', '2:05':'02:05', '2:25':'02:25', '0:55':'00:55', '2:50':'02:50', '8:25':'08:25', \n",
    "                                                         '20:5':'20:50', '9:45':'09:45', '5:50':'05:50', '7:45':'07:45', '0:40':'00:40', '0:30':'00:30', '5:40':'05:40', '22:0':'22:00', \n",
    "                                                         '6:55':'06:55', '8:05':'08:05', '7:25':'07:25', '9:35':'09:35', '0:35':'00:35', '6:30':'06:30', '3:20':'03:20', '3:55':'03:55',\n",
    "                                                        '03:5':'03:50', '6:40':'06:40', '9:40':'09:40', '3:00':'03:00', ':00':'00:00', '5:45':'05:45', '6:35':'06:35', '5:5':'05:50', \n",
    "                                                         '3:50':'03:50', '02:0':'02:00', '7:0':'07:00', '5:30':'05:30', '06:0':'06:00', '8:50':'08:50', '8:40':'08:40', '7:20':'07:20', \n",
    "                                                         '6:05':'06:05', '9:0':'09:00', '6:45':'06:45', '04:0':'04:00', '20:0':'20:00', '05:5':'05:50', '9:5':'09:50', '3:5':'03:50' })\n"
   ]
  },
  {
   "cell_type": "code",
   "execution_count": 177,
   "id": "79bf23b5",
   "metadata": {},
   "outputs": [],
   "source": [
    "flight.drop([\"Arrival_Time\"], axis = 1, inplace = True)\n"
   ]
  },
  {
   "cell_type": "code",
   "execution_count": 178,
   "id": "0cd3ef28",
   "metadata": {},
   "outputs": [
    {
     "data": {
      "text/html": [
       "<div>\n",
       "<style scoped>\n",
       "    .dataframe tbody tr th:only-of-type {\n",
       "        vertical-align: middle;\n",
       "    }\n",
       "\n",
       "    .dataframe tbody tr th {\n",
       "        vertical-align: top;\n",
       "    }\n",
       "\n",
       "    .dataframe thead th {\n",
       "        text-align: right;\n",
       "    }\n",
       "</style>\n",
       "<table border=\"1\" class=\"dataframe\">\n",
       "  <thead>\n",
       "    <tr style=\"text-align: right;\">\n",
       "      <th></th>\n",
       "      <th>Airline</th>\n",
       "      <th>Source</th>\n",
       "      <th>Destination</th>\n",
       "      <th>Dep_Time</th>\n",
       "      <th>Duration</th>\n",
       "      <th>Total_Stops</th>\n",
       "      <th>Price</th>\n",
       "    </tr>\n",
       "  </thead>\n",
       "  <tbody>\n",
       "    <tr>\n",
       "      <th>0</th>\n",
       "      <td>Go First</td>\n",
       "      <td>Bangalore</td>\n",
       "      <td>New Delhi</td>\n",
       "      <td>20:35</td>\n",
       "      <td>2h 05m</td>\n",
       "      <td>Non Stop</td>\n",
       "      <td>5,950</td>\n",
       "    </tr>\n",
       "    <tr>\n",
       "      <th>1</th>\n",
       "      <td>Go First</td>\n",
       "      <td>Kolkata</td>\n",
       "      <td>Bangalore</td>\n",
       "      <td>22:00</td>\n",
       "      <td>2h 10m</td>\n",
       "      <td>Non Stop</td>\n",
       "      <td>5,950</td>\n",
       "    </tr>\n",
       "    <tr>\n",
       "      <th>2</th>\n",
       "      <td>Go First</td>\n",
       "      <td>Delhi</td>\n",
       "      <td>Mumbai</td>\n",
       "      <td>23:05</td>\n",
       "      <td>2h 05m</td>\n",
       "      <td>Non Stop</td>\n",
       "      <td>5,950</td>\n",
       "    </tr>\n",
       "    <tr>\n",
       "      <th>3</th>\n",
       "      <td>Go First</td>\n",
       "      <td>Mumbai</td>\n",
       "      <td>Rajasthan</td>\n",
       "      <td>23:55</td>\n",
       "      <td>2h 10m</td>\n",
       "      <td>Non Stop</td>\n",
       "      <td>5,950</td>\n",
       "    </tr>\n",
       "    <tr>\n",
       "      <th>4</th>\n",
       "      <td>SpiceJet</td>\n",
       "      <td>Bangalore</td>\n",
       "      <td>Chennai</td>\n",
       "      <td>1:00</td>\n",
       "      <td>2h 05m</td>\n",
       "      <td>Non Stop</td>\n",
       "      <td>5,950</td>\n",
       "    </tr>\n",
       "  </tbody>\n",
       "</table>\n",
       "</div>"
      ],
      "text/plain": [
       "    Airline     Source Destination Dep_Time Duration Total_Stops  Price\n",
       "0  Go First  Bangalore   New Delhi    20:35   2h 05m    Non Stop  5,950\n",
       "1  Go First    Kolkata   Bangalore    22:00   2h 10m    Non Stop  5,950\n",
       "2  Go First      Delhi      Mumbai    23:05   2h 05m    Non Stop  5,950\n",
       "3  Go First     Mumbai   Rajasthan    23:55   2h 10m    Non Stop  5,950\n",
       "4  SpiceJet  Bangalore     Chennai     1:00   2h 05m    Non Stop  5,950"
      ]
     },
     "execution_count": 178,
     "metadata": {},
     "output_type": "execute_result"
    }
   ],
   "source": [
    "#checking dataset again\n",
    "flight.head()"
   ]
  },
  {
   "cell_type": "code",
   "execution_count": 179,
   "id": "9742dc35",
   "metadata": {},
   "outputs": [
    {
     "data": {
      "text/plain": [
       "array(['2h 05m', '2h 10m', '2h 15m', '2h 25m', '2h 20m', '2h 35m',\n",
       "       '5h 05m', '8h 55m', '12h 05m', '12h 20m', '15h 30m', '16h 45m',\n",
       "       '23h 45m', '2h 00m', '5h 10m', '13h 50m', '6h 35m', '9h 15m',\n",
       "       '5h 30m'], dtype=object)"
      ]
     },
     "execution_count": 179,
     "metadata": {},
     "output_type": "execute_result"
    }
   ],
   "source": [
    "flight[\"Duration\"].unique()"
   ]
  },
  {
   "cell_type": "code",
   "execution_count": 180,
   "id": "85f038c5",
   "metadata": {},
   "outputs": [],
   "source": [
    "flight[\"Duration\"]= flight[\"Duration\"].str.replace(' h', 'h')\n",
    "flight[\"Duration\"]= flight[\"Duration\"].str.replace(' m', 'm')"
   ]
  },
  {
   "cell_type": "code",
   "execution_count": 181,
   "id": "524248b3",
   "metadata": {},
   "outputs": [
    {
     "data": {
      "text/plain": [
       "array(['2h 05m', '2h 10m', '2h 15m', '2h 25m', '2h 20m', '2h 35m',\n",
       "       '5h 05m', '8h 55m', '12h 05m', '12h 20m', '15h 30m', '16h 45m',\n",
       "       '23h 45m', '2h 00m', '5h 10m', '13h 50m', '6h 35m', '9h 15m',\n",
       "       '5h 30m'], dtype=object)"
      ]
     },
     "execution_count": 181,
     "metadata": {},
     "output_type": "execute_result"
    }
   ],
   "source": [
    "flight[\"Duration\"].unique()"
   ]
  },
  {
   "cell_type": "code",
   "execution_count": 182,
   "id": "e5b9518b",
   "metadata": {},
   "outputs": [],
   "source": [
    "# Time taken by plane to reach destination is called Duration (Duration= Departure Time - Arrival time).\n",
    "duration = list(flight[\"Duration\"])\n",
    "\n",
    "for i in range(len(duration)):\n",
    "    # Checking if duration contains only hour or minutes\n",
    "    if len(duration[i].split()) != 2:    \n",
    "        if \"h\" in duration[i]:\n",
    "            # Adding 0 Minutes\n",
    "            duration[i] = duration[i].strip() + \" 0m\"   \n",
    "        else:\n",
    "            # Adding 0 Hours\n",
    "            duration[i] = \"0h \" + duration[i]"
   ]
  },
  {
   "cell_type": "code",
   "execution_count": 183,
   "id": "6dafa86d",
   "metadata": {},
   "outputs": [],
   "source": [
    "Duration_Hours = []\n",
    "for i in range(len(duration)):\n",
    "    # Extracting hours from duration\n",
    "    Duration_Hours.append(int(duration[i].split(sep = \"h\")[0]))    "
   ]
  },
  {
   "cell_type": "code",
   "execution_count": 184,
   "id": "d0555256",
   "metadata": {},
   "outputs": [],
   "source": [
    "Duration_Minutes = []\n",
    "for i in range(len(duration)):\n",
    "    # Extracting minutes from duration\n",
    "    Duration_Minutes.append(int(duration[i].split(sep = \"m\")[0].split()[-1]))"
   ]
  },
  {
   "cell_type": "code",
   "execution_count": 185,
   "id": "08478e44",
   "metadata": {},
   "outputs": [],
   "source": [
    "# Adding Duration_Hours and Duration_Minutes list to flight_train Dataset\n",
    "flight[\"Duration_Hours\"] = Duration_Hours\n",
    "flight[\"Duration_Minutes\"] = Duration_Minutes"
   ]
  },
  {
   "cell_type": "code",
   "execution_count": 186,
   "id": "f322cc06",
   "metadata": {},
   "outputs": [],
   "source": [
    "flight.drop([\"Duration\"], axis = 1, inplace = True)"
   ]
  },
  {
   "cell_type": "code",
   "execution_count": 187,
   "id": "a6676ebc",
   "metadata": {},
   "outputs": [
    {
     "data": {
      "text/html": [
       "<div>\n",
       "<style scoped>\n",
       "    .dataframe tbody tr th:only-of-type {\n",
       "        vertical-align: middle;\n",
       "    }\n",
       "\n",
       "    .dataframe tbody tr th {\n",
       "        vertical-align: top;\n",
       "    }\n",
       "\n",
       "    .dataframe thead th {\n",
       "        text-align: right;\n",
       "    }\n",
       "</style>\n",
       "<table border=\"1\" class=\"dataframe\">\n",
       "  <thead>\n",
       "    <tr style=\"text-align: right;\">\n",
       "      <th></th>\n",
       "      <th>Airline</th>\n",
       "      <th>Source</th>\n",
       "      <th>Destination</th>\n",
       "      <th>Dep_Time</th>\n",
       "      <th>Total_Stops</th>\n",
       "      <th>Price</th>\n",
       "      <th>Duration_Hours</th>\n",
       "      <th>Duration_Minutes</th>\n",
       "    </tr>\n",
       "  </thead>\n",
       "  <tbody>\n",
       "    <tr>\n",
       "      <th>0</th>\n",
       "      <td>Go First</td>\n",
       "      <td>Bangalore</td>\n",
       "      <td>New Delhi</td>\n",
       "      <td>20:35</td>\n",
       "      <td>Non Stop</td>\n",
       "      <td>5,950</td>\n",
       "      <td>2</td>\n",
       "      <td>5</td>\n",
       "    </tr>\n",
       "    <tr>\n",
       "      <th>1</th>\n",
       "      <td>Go First</td>\n",
       "      <td>Kolkata</td>\n",
       "      <td>Bangalore</td>\n",
       "      <td>22:00</td>\n",
       "      <td>Non Stop</td>\n",
       "      <td>5,950</td>\n",
       "      <td>2</td>\n",
       "      <td>10</td>\n",
       "    </tr>\n",
       "    <tr>\n",
       "      <th>2</th>\n",
       "      <td>Go First</td>\n",
       "      <td>Delhi</td>\n",
       "      <td>Mumbai</td>\n",
       "      <td>23:05</td>\n",
       "      <td>Non Stop</td>\n",
       "      <td>5,950</td>\n",
       "      <td>2</td>\n",
       "      <td>5</td>\n",
       "    </tr>\n",
       "    <tr>\n",
       "      <th>3</th>\n",
       "      <td>Go First</td>\n",
       "      <td>Mumbai</td>\n",
       "      <td>Rajasthan</td>\n",
       "      <td>23:55</td>\n",
       "      <td>Non Stop</td>\n",
       "      <td>5,950</td>\n",
       "      <td>2</td>\n",
       "      <td>10</td>\n",
       "    </tr>\n",
       "    <tr>\n",
       "      <th>4</th>\n",
       "      <td>SpiceJet</td>\n",
       "      <td>Bangalore</td>\n",
       "      <td>Chennai</td>\n",
       "      <td>1:00</td>\n",
       "      <td>Non Stop</td>\n",
       "      <td>5,950</td>\n",
       "      <td>2</td>\n",
       "      <td>5</td>\n",
       "    </tr>\n",
       "  </tbody>\n",
       "</table>\n",
       "</div>"
      ],
      "text/plain": [
       "    Airline     Source Destination Dep_Time Total_Stops  Price  \\\n",
       "0  Go First  Bangalore   New Delhi    20:35    Non Stop  5,950   \n",
       "1  Go First    Kolkata   Bangalore    22:00    Non Stop  5,950   \n",
       "2  Go First      Delhi      Mumbai    23:05    Non Stop  5,950   \n",
       "3  Go First     Mumbai   Rajasthan    23:55    Non Stop  5,950   \n",
       "4  SpiceJet  Bangalore     Chennai     1:00    Non Stop  5,950   \n",
       "\n",
       "   Duration_Hours  Duration_Minutes  \n",
       "0               2                 5  \n",
       "1               2                10  \n",
       "2               2                 5  \n",
       "3               2                10  \n",
       "4               2                 5  "
      ]
     },
     "execution_count": 187,
     "metadata": {},
     "output_type": "execute_result"
    }
   ],
   "source": [
    "flight.head()"
   ]
  },
  {
   "cell_type": "code",
   "execution_count": 188,
   "id": "635182ce",
   "metadata": {},
   "outputs": [
    {
     "data": {
      "text/plain": [
       "array(['5,950', '5,954', '5,955', '6,092', '6,165', '6,827', '7,698',\n",
       "       '7,835', '7,897', '8,579', '8,580', '8,652', '8,936', '8,947',\n",
       "       '9,000', '9,146', '9,157', '9,210', '9,293', '9,525', '9,646',\n",
       "       '9,682', '9,734', '9,750', '9,768', '9,830', '9,839', '9,840',\n",
       "       '9,942', '9,978', '10,007', '10,050', '10,102', '10,229', '10,293',\n",
       "       '10,338', '10,363', '10,364', '10,386', '10,397', '10,470',\n",
       "       '10,503', '10,520', '10,545', '10,680', '10,712', '11,021',\n",
       "       '11,330', '11,552', '11,623', '11,625', '11,900', '12,337',\n",
       "       '12,506', '2,506'], dtype=object)"
      ]
     },
     "execution_count": 188,
     "metadata": {},
     "output_type": "execute_result"
    }
   ],
   "source": [
    "flight['Price'].unique()"
   ]
  },
  {
   "cell_type": "code",
   "execution_count": 189,
   "id": "c8234c55",
   "metadata": {},
   "outputs": [],
   "source": [
    "#Removing irrelevant Values and special characters\n",
    "flight['Price']= flight['Price'].str.replace(' Deal', '')\n",
    "flight['Price']= flight['Price'].str.replace('₹ 35,254', '')\n",
    "flight['Price']= flight['Price'].str.replace('₹ 17,174', '')\n",
    "flight['Price']= flight['Price'].str.replace('₹ 18,624', '')\n",
    "flight['Price']= flight['Price'].str.replace('₹ 15,270', '')\n",
    "flight['Price']= flight['Price'].str.replace('₹ 11,177', '')\n",
    "flight['Price']= flight['Price'].str.replace(',', '')\n",
    "flight['Price']= flight['Price'].str.replace('₹ ', '')"
   ]
  },
  {
   "cell_type": "code",
   "execution_count": 190,
   "id": "f3755a6f",
   "metadata": {},
   "outputs": [
    {
     "data": {
      "text/plain": [
       "array(['5950', '5954', '5955', '6092', '6165', '6827', '7698', '7835',\n",
       "       '7897', '8579', '8580', '8652', '8936', '8947', '9000', '9146',\n",
       "       '9157', '9210', '9293', '9525', '9646', '9682', '9734', '9750',\n",
       "       '9768', '9830', '9839', '9840', '9942', '9978', '10007', '10050',\n",
       "       '10102', '10229', '10293', '10338', '10363', '10364', '10386',\n",
       "       '10397', '10470', '10503', '10520', '10545', '10680', '10712',\n",
       "       '11021', '11330', '11552', '11623', '11625', '11900', '12337',\n",
       "       '12506', '2506'], dtype=object)"
      ]
     },
     "execution_count": 190,
     "metadata": {},
     "output_type": "execute_result"
    }
   ],
   "source": [
    "#checking again all values after removing special characters\n",
    "flight['Price'].unique()"
   ]
  },
  {
   "cell_type": "code",
   "execution_count": 191,
   "id": "51048f70",
   "metadata": {},
   "outputs": [
    {
     "data": {
      "text/html": [
       "<div>\n",
       "<style scoped>\n",
       "    .dataframe tbody tr th:only-of-type {\n",
       "        vertical-align: middle;\n",
       "    }\n",
       "\n",
       "    .dataframe tbody tr th {\n",
       "        vertical-align: top;\n",
       "    }\n",
       "\n",
       "    .dataframe thead th {\n",
       "        text-align: right;\n",
       "    }\n",
       "</style>\n",
       "<table border=\"1\" class=\"dataframe\">\n",
       "  <thead>\n",
       "    <tr style=\"text-align: right;\">\n",
       "      <th></th>\n",
       "      <th>Airline</th>\n",
       "      <th>Source</th>\n",
       "      <th>Destination</th>\n",
       "      <th>Dep_Time</th>\n",
       "      <th>Total_Stops</th>\n",
       "      <th>Price</th>\n",
       "      <th>Duration_Hours</th>\n",
       "      <th>Duration_Minutes</th>\n",
       "    </tr>\n",
       "  </thead>\n",
       "  <tbody>\n",
       "    <tr>\n",
       "      <th>0</th>\n",
       "      <td>Go First</td>\n",
       "      <td>Bangalore</td>\n",
       "      <td>New Delhi</td>\n",
       "      <td>20:35</td>\n",
       "      <td>Non Stop</td>\n",
       "      <td>5950</td>\n",
       "      <td>2</td>\n",
       "      <td>5</td>\n",
       "    </tr>\n",
       "    <tr>\n",
       "      <th>1</th>\n",
       "      <td>Go First</td>\n",
       "      <td>Kolkata</td>\n",
       "      <td>Bangalore</td>\n",
       "      <td>22:00</td>\n",
       "      <td>Non Stop</td>\n",
       "      <td>5950</td>\n",
       "      <td>2</td>\n",
       "      <td>10</td>\n",
       "    </tr>\n",
       "    <tr>\n",
       "      <th>2</th>\n",
       "      <td>Go First</td>\n",
       "      <td>Delhi</td>\n",
       "      <td>Mumbai</td>\n",
       "      <td>23:05</td>\n",
       "      <td>Non Stop</td>\n",
       "      <td>5950</td>\n",
       "      <td>2</td>\n",
       "      <td>5</td>\n",
       "    </tr>\n",
       "    <tr>\n",
       "      <th>3</th>\n",
       "      <td>Go First</td>\n",
       "      <td>Mumbai</td>\n",
       "      <td>Rajasthan</td>\n",
       "      <td>23:55</td>\n",
       "      <td>Non Stop</td>\n",
       "      <td>5950</td>\n",
       "      <td>2</td>\n",
       "      <td>10</td>\n",
       "    </tr>\n",
       "    <tr>\n",
       "      <th>4</th>\n",
       "      <td>SpiceJet</td>\n",
       "      <td>Bangalore</td>\n",
       "      <td>Chennai</td>\n",
       "      <td>1:00</td>\n",
       "      <td>Non Stop</td>\n",
       "      <td>5950</td>\n",
       "      <td>2</td>\n",
       "      <td>5</td>\n",
       "    </tr>\n",
       "    <tr>\n",
       "      <th>...</th>\n",
       "      <td>...</td>\n",
       "      <td>...</td>\n",
       "      <td>...</td>\n",
       "      <td>...</td>\n",
       "      <td>...</td>\n",
       "      <td>...</td>\n",
       "      <td>...</td>\n",
       "      <td>...</td>\n",
       "    </tr>\n",
       "    <tr>\n",
       "      <th>1495</th>\n",
       "      <td>IndiGo</td>\n",
       "      <td>Bangalore</td>\n",
       "      <td>Mumbai</td>\n",
       "      <td>20:35</td>\n",
       "      <td>Non Stop</td>\n",
       "      <td>12506</td>\n",
       "      <td>5</td>\n",
       "      <td>30</td>\n",
       "    </tr>\n",
       "    <tr>\n",
       "      <th>1496</th>\n",
       "      <td>IndiGo</td>\n",
       "      <td>Kolkata</td>\n",
       "      <td>Mumbai</td>\n",
       "      <td>22:00</td>\n",
       "      <td>Non Stop</td>\n",
       "      <td>12506</td>\n",
       "      <td>5</td>\n",
       "      <td>30</td>\n",
       "    </tr>\n",
       "    <tr>\n",
       "      <th>1497</th>\n",
       "      <td>IndiGo</td>\n",
       "      <td>Delhi</td>\n",
       "      <td>Mumbai</td>\n",
       "      <td>23:05</td>\n",
       "      <td>Non Stop</td>\n",
       "      <td>12506</td>\n",
       "      <td>5</td>\n",
       "      <td>30</td>\n",
       "    </tr>\n",
       "    <tr>\n",
       "      <th>1498</th>\n",
       "      <td>IndiGo</td>\n",
       "      <td>Mumbai</td>\n",
       "      <td>Mumbai</td>\n",
       "      <td>23:55</td>\n",
       "      <td>Non Stop</td>\n",
       "      <td>12506</td>\n",
       "      <td>5</td>\n",
       "      <td>30</td>\n",
       "    </tr>\n",
       "    <tr>\n",
       "      <th>1499</th>\n",
       "      <td>IndiGo</td>\n",
       "      <td>Bangalore</td>\n",
       "      <td>Mumbai</td>\n",
       "      <td>1:00</td>\n",
       "      <td>Non Stop</td>\n",
       "      <td>2506</td>\n",
       "      <td>5</td>\n",
       "      <td>30</td>\n",
       "    </tr>\n",
       "  </tbody>\n",
       "</table>\n",
       "<p>1500 rows × 8 columns</p>\n",
       "</div>"
      ],
      "text/plain": [
       "       Airline     Source Destination Dep_Time Total_Stops  Price  \\\n",
       "0     Go First  Bangalore   New Delhi    20:35    Non Stop   5950   \n",
       "1     Go First    Kolkata   Bangalore    22:00    Non Stop   5950   \n",
       "2     Go First      Delhi      Mumbai    23:05    Non Stop   5950   \n",
       "3     Go First     Mumbai   Rajasthan    23:55    Non Stop   5950   \n",
       "4     SpiceJet  Bangalore     Chennai     1:00    Non Stop   5950   \n",
       "...        ...        ...         ...      ...         ...    ...   \n",
       "1495    IndiGo  Bangalore      Mumbai    20:35    Non Stop  12506   \n",
       "1496    IndiGo    Kolkata      Mumbai    22:00    Non Stop  12506   \n",
       "1497    IndiGo      Delhi      Mumbai    23:05    Non Stop  12506   \n",
       "1498    IndiGo     Mumbai      Mumbai    23:55    Non Stop  12506   \n",
       "1499    IndiGo  Bangalore      Mumbai     1:00    Non Stop   2506   \n",
       "\n",
       "      Duration_Hours  Duration_Minutes  \n",
       "0                  2                 5  \n",
       "1                  2                10  \n",
       "2                  2                 5  \n",
       "3                  2                10  \n",
       "4                  2                 5  \n",
       "...              ...               ...  \n",
       "1495               5                30  \n",
       "1496               5                30  \n",
       "1497               5                30  \n",
       "1498               5                30  \n",
       "1499               5                30  \n",
       "\n",
       "[1500 rows x 8 columns]"
      ]
     },
     "execution_count": 191,
     "metadata": {},
     "output_type": "execute_result"
    }
   ],
   "source": [
    "flight"
   ]
  },
  {
   "cell_type": "code",
   "execution_count": 192,
   "id": "63abd846",
   "metadata": {},
   "outputs": [
    {
     "data": {
      "text/plain": [
       "array(['Non Stop'], dtype=object)"
      ]
     },
     "execution_count": 192,
     "metadata": {},
     "output_type": "execute_result"
    }
   ],
   "source": [
    "flight['Total_Stops'].unique()"
   ]
  },
  {
   "cell_type": "code",
   "execution_count": 193,
   "id": "021eb833",
   "metadata": {},
   "outputs": [],
   "source": [
    "flight['Price']= flight['Price'].astype('int64')"
   ]
  },
  {
   "cell_type": "code",
   "execution_count": 194,
   "id": "f4652b0d",
   "metadata": {},
   "outputs": [
    {
     "data": {
      "text/plain": [
       "Airline             object\n",
       "Source              object\n",
       "Destination         object\n",
       "Dep_Time            object\n",
       "Total_Stops         object\n",
       "Price                int64\n",
       "Duration_Hours       int64\n",
       "Duration_Minutes     int64\n",
       "dtype: object"
      ]
     },
     "execution_count": 194,
     "metadata": {},
     "output_type": "execute_result"
    }
   ],
   "source": [
    "#checking Datatypes\n",
    "flight.dtypes"
   ]
  },
  {
   "cell_type": "code",
   "execution_count": 195,
   "id": "fc3e2504",
   "metadata": {},
   "outputs": [
    {
     "data": {
      "text/plain": [
       "Index(['Airline', 'Source', 'Destination', 'Dep_Time', 'Total_Stops', 'Price',\n",
       "       'Duration_Hours', 'Duration_Minutes'],\n",
       "      dtype='object')"
      ]
     },
     "execution_count": 195,
     "metadata": {},
     "output_type": "execute_result"
    }
   ],
   "source": [
    "#checking again all column names\n",
    "flight.columns"
   ]
  },
  {
   "cell_type": "code",
   "execution_count": 196,
   "id": "0e3c2730",
   "metadata": {},
   "outputs": [
    {
     "data": {
      "text/plain": [
       "(1500, 8)"
      ]
     },
     "execution_count": 196,
     "metadata": {},
     "output_type": "execute_result"
    }
   ],
   "source": [
    "#Checking again total Rows and Columns\n",
    "flight.shape"
   ]
  },
  {
   "cell_type": "code",
   "execution_count": 197,
   "id": "c687d3e4",
   "metadata": {},
   "outputs": [
    {
     "data": {
      "text/html": [
       "<div>\n",
       "<style scoped>\n",
       "    .dataframe tbody tr th:only-of-type {\n",
       "        vertical-align: middle;\n",
       "    }\n",
       "\n",
       "    .dataframe tbody tr th {\n",
       "        vertical-align: top;\n",
       "    }\n",
       "\n",
       "    .dataframe thead th {\n",
       "        text-align: right;\n",
       "    }\n",
       "</style>\n",
       "<table border=\"1\" class=\"dataframe\">\n",
       "  <thead>\n",
       "    <tr style=\"text-align: right;\">\n",
       "      <th></th>\n",
       "      <th>Price</th>\n",
       "      <th>Duration_Hours</th>\n",
       "      <th>Duration_Minutes</th>\n",
       "    </tr>\n",
       "  </thead>\n",
       "  <tbody>\n",
       "    <tr>\n",
       "      <th>count</th>\n",
       "      <td>1500.000000</td>\n",
       "      <td>1500.000000</td>\n",
       "      <td>1500.000000</td>\n",
       "    </tr>\n",
       "    <tr>\n",
       "      <th>mean</th>\n",
       "      <td>12073.541333</td>\n",
       "      <td>4.760000</td>\n",
       "      <td>28.433333</td>\n",
       "    </tr>\n",
       "    <tr>\n",
       "      <th>std</th>\n",
       "      <td>1424.001218</td>\n",
       "      <td>1.135749</td>\n",
       "      <td>5.182998</td>\n",
       "    </tr>\n",
       "    <tr>\n",
       "      <th>min</th>\n",
       "      <td>2506.000000</td>\n",
       "      <td>2.000000</td>\n",
       "      <td>0.000000</td>\n",
       "    </tr>\n",
       "    <tr>\n",
       "      <th>25%</th>\n",
       "      <td>12506.000000</td>\n",
       "      <td>5.000000</td>\n",
       "      <td>30.000000</td>\n",
       "    </tr>\n",
       "    <tr>\n",
       "      <th>50%</th>\n",
       "      <td>12506.000000</td>\n",
       "      <td>5.000000</td>\n",
       "      <td>30.000000</td>\n",
       "    </tr>\n",
       "    <tr>\n",
       "      <th>75%</th>\n",
       "      <td>12506.000000</td>\n",
       "      <td>5.000000</td>\n",
       "      <td>30.000000</td>\n",
       "    </tr>\n",
       "    <tr>\n",
       "      <th>max</th>\n",
       "      <td>12506.000000</td>\n",
       "      <td>23.000000</td>\n",
       "      <td>55.000000</td>\n",
       "    </tr>\n",
       "  </tbody>\n",
       "</table>\n",
       "</div>"
      ],
      "text/plain": [
       "              Price  Duration_Hours  Duration_Minutes\n",
       "count   1500.000000     1500.000000       1500.000000\n",
       "mean   12073.541333        4.760000         28.433333\n",
       "std     1424.001218        1.135749          5.182998\n",
       "min     2506.000000        2.000000          0.000000\n",
       "25%    12506.000000        5.000000         30.000000\n",
       "50%    12506.000000        5.000000         30.000000\n",
       "75%    12506.000000        5.000000         30.000000\n",
       "max    12506.000000       23.000000         55.000000"
      ]
     },
     "execution_count": 197,
     "metadata": {},
     "output_type": "execute_result"
    }
   ],
   "source": [
    "# Description of flight Dataset : works only on continuous column \n",
    "flight.describe()"
   ]
  },
  {
   "cell_type": "markdown",
   "id": "284cf48e",
   "metadata": {},
   "source": [
    "###  Checking Description through heatmap\n"
   ]
  },
  {
   "cell_type": "code",
   "execution_count": 198,
   "id": "cc5a0129",
   "metadata": {},
   "outputs": [
    {
     "data": {
      "image/png": "[encoded data removed]",
      "text/plain": [
       "<Figure size 1440x360 with 2 Axes>"
      ]
     },
     "metadata": {
      "needs_background": "light"
     },
     "output_type": "display_data"
    }
   ],
   "source": [
    "plt.figure(figsize=(20,5))\n",
    "sns.heatmap(round(flight.describe()[1:].transpose(),2),linewidth=2,annot=True,fmt='.2f')\n",
    "plt.xticks(fontsize=18)\n",
    "plt.xticks(fontsize=12)\n",
    "plt.title('variables')\n",
    "plt.show()"
   ]
  },
  {
   "cell_type": "markdown",
   "id": "af07d6e5",
   "metadata": {},
   "source": [
    "### Data Visualization\n",
    "#### Univariate Analysis\n",
    "#### Using Countplot"
   ]
  },
  {
   "cell_type": "code",
   "execution_count": 199,
   "id": "293f9fdc",
   "metadata": {},
   "outputs": [
    {
     "name": "stdout",
     "output_type": "stream",
     "text": [
      "IndiGo       483\n",
      "Air India    361\n",
      "Vistara      331\n",
      "SpiceJet     155\n",
      "Go First     100\n",
      "Air Asia      70\n",
      "Name: Airline, dtype: int64\n"
     ]
    },
    {
     "data": {
      "text/plain": [
       "<AxesSubplot:xlabel='count', ylabel='Airline'>"
      ]
     },
     "execution_count": 199,
     "metadata": {},
     "output_type": "execute_result"
    },
    {
     "data": {
      "image/png": "[encoded data removed]",
      "text/plain": [
       "<Figure size 720x720 with 1 Axes>"
      ]
     },
     "metadata": {
      "needs_background": "light"
     },
     "output_type": "display_data"
    }
   ],
   "source": [
    "#Count Plot for \"Airline_Name\" column\n",
    "print(flight[\"Airline\"].value_counts())\n",
    "plt.figure(figsize=(10,10))\n",
    "sns.countplot(y= \"Airline\",data=flight)"
   ]
  },
  {
   "cell_type": "code",
   "execution_count": 200,
   "id": "adba2be7",
   "metadata": {},
   "outputs": [
    {
     "name": "stdout",
     "output_type": "stream",
     "text": [
      "Bangalore    597\n",
      "Kolkata      301\n",
      "Delhi        301\n",
      "Mumbai       301\n",
      "Name: Source, dtype: int64\n"
     ]
    },
    {
     "data": {
      "text/plain": [
       "<AxesSubplot:xlabel='count', ylabel='Source'>"
      ]
     },
     "execution_count": 200,
     "metadata": {},
     "output_type": "execute_result"
    },
    {
     "data": {
      "image/png": "[encoded data removed]",
      "text/plain": [
       "<Figure size 720x360 with 1 Axes>"
      ]
     },
     "metadata": {
      "needs_background": "light"
     },
     "output_type": "display_data"
    }
   ],
   "source": [
    "#Count Plot for \"Source\" column\n",
    "print(flight[\"Source\"].value_counts())\n",
    "plt.figure(figsize=(10,5))\n",
    "sns.countplot(y= \"Source\",data=flight)"
   ]
  },
  {
   "cell_type": "code",
   "execution_count": 201,
   "id": "b5eb6baa",
   "metadata": {},
   "outputs": [
    {
     "name": "stdout",
     "output_type": "stream",
     "text": [
      "Mumbai       393\n",
      "New Delhi    349\n",
      "Chennai      257\n",
      "Bangalore    251\n",
      "Rajasthan    250\n",
      "Name: Destination, dtype: int64\n"
     ]
    },
    {
     "data": {
      "text/plain": [
       "<AxesSubplot:xlabel='count', ylabel='Destination'>"
      ]
     },
     "execution_count": 201,
     "metadata": {},
     "output_type": "execute_result"
    },
    {
     "data": {
      "image/png": "[encoded data removed]",
      "text/plain": [
       "<Figure size 720x360 with 1 Axes>"
      ]
     },
     "metadata": {
      "needs_background": "light"
     },
     "output_type": "display_data"
    }
   ],
   "source": [
    "#Count Plot for \"Destination\" column\n",
    "print(flight[\"Destination\"].value_counts())\n",
    "plt.figure(figsize=(10,5))\n",
    "sns.countplot(y=\"Destination\",data=flight)"
   ]
  },
  {
   "cell_type": "code",
   "execution_count": 202,
   "id": "23a76769",
   "metadata": {},
   "outputs": [
    {
     "name": "stdout",
     "output_type": "stream",
     "text": [
      "Non Stop    1500\n",
      "Name: Total_Stops, dtype: int64\n"
     ]
    },
    {
     "data": {
      "text/plain": [
       "<AxesSubplot:xlabel='Total_Stops', ylabel='count'>"
      ]
     },
     "execution_count": 202,
     "metadata": {},
     "output_type": "execute_result"
    },
    {
     "data": {
      "image/png": "[encoded data removed]",
      "text/plain": [
       "<Figure size 360x360 with 1 Axes>"
      ]
     },
     "metadata": {
      "needs_background": "light"
     },
     "output_type": "display_data"
    }
   ],
   "source": [
    "#Count Plot for \"Total_Stops\" column\n",
    "print(flight[\"Total_Stops\"].value_counts())\n",
    "plt.figure(figsize=(5,5))\n",
    "sns.countplot(\"Total_Stops\",data=flight)"
   ]
  },
  {
   "cell_type": "code",
   "execution_count": 203,
   "id": "ca9c1457",
   "metadata": {},
   "outputs": [
    {
     "name": "stdout",
     "output_type": "stream",
     "text": [
      "16:20    298\n",
      "23:15     56\n",
      "6:15      55\n",
      "0:40      37\n",
      "11:00     37\n",
      "9:40      36\n",
      "21:15     36\n",
      "12:35     36\n",
      "21:55     36\n",
      "19:05     36\n",
      "22:00     20\n",
      "20:35     20\n",
      "23:55     20\n",
      "1:00      20\n",
      "23:05     20\n",
      "7:55      19\n",
      "18:30     19\n",
      "11:10     19\n",
      "17:20     19\n",
      "0:30      19\n",
      "15:45     19\n",
      "20:45     19\n",
      "9:05      19\n",
      "10:10     19\n",
      "11:15     19\n",
      "9:45      19\n",
      "0:05      19\n",
      "14:15     19\n",
      "18:20     19\n",
      "11:20     19\n",
      "18:45     19\n",
      "5:30      19\n",
      "14:00     18\n",
      "20:05     18\n",
      "23:35     18\n",
      "17:40     18\n",
      "20:10     18\n",
      "16:15     18\n",
      "15:00     18\n",
      "23:40     18\n",
      "22:50     18\n",
      "22:10     18\n",
      "7:40      18\n",
      "16:30     18\n",
      "11:35     18\n",
      "12:00     18\n",
      "0:10      18\n",
      "20:25     18\n",
      "18:25     18\n",
      "9:30      18\n",
      "1:40      18\n",
      "12:50     18\n",
      "8:35      18\n",
      "13:55     18\n",
      "4:10      18\n",
      "Name: Dep_Time, dtype: int64\n"
     ]
    },
    {
     "data": {
      "text/plain": [
       "<AxesSubplot:xlabel='Dep_Time', ylabel='count'>"
      ]
     },
     "execution_count": 203,
     "metadata": {},
     "output_type": "execute_result"
    },
    {
     "data": {
      "image/png": "[encoded data removed]",
      "text/plain": [
       "<Figure size 1080x360 with 1 Axes>"
      ]
     },
     "metadata": {
      "needs_background": "light"
     },
     "output_type": "display_data"
    }
   ],
   "source": [
    "#countplot for \"Dep_Hour\" column\n",
    "print(flight[\"Dep_Time\"].value_counts())\n",
    "plt.figure(figsize=(15,5))\n",
    "sns.countplot(x=\"Dep_Time\",data=flight)"
   ]
  },
  {
   "cell_type": "code",
   "execution_count": 204,
   "id": "061ee497",
   "metadata": {},
   "outputs": [
    {
     "name": "stdout",
     "output_type": "stream",
     "text": [
      "30    1347\n",
      "15     105\n",
      "10      20\n",
      "5       15\n",
      "20       5\n",
      "35       2\n",
      "45       2\n",
      "25       1\n",
      "55       1\n",
      "0        1\n",
      "50       1\n",
      "Name: Duration_Minutes, dtype: int64\n"
     ]
    },
    {
     "data": {
      "text/plain": [
       "<AxesSubplot:xlabel='Duration_Minutes', ylabel='count'>"
      ]
     },
     "execution_count": 204,
     "metadata": {},
     "output_type": "execute_result"
    },
    {
     "data": {
      "image/png": "[encoded data removed]",
      "text/plain": [
       "<Figure size 1080x360 with 1 Axes>"
      ]
     },
     "metadata": {
      "needs_background": "light"
     },
     "output_type": "display_data"
    }
   ],
   "source": [
    "#countplot for \"Arrival_Minute\" column\n",
    "print(flight[\"Duration_Minutes\"].value_counts())\n",
    "plt.figure(figsize=(15,5))\n",
    "sns.countplot(x=\"Duration_Minutes\",data=flight)"
   ]
  },
  {
   "cell_type": "code",
   "execution_count": 205,
   "id": "c86d71f7",
   "metadata": {},
   "outputs": [
    {
     "name": "stdout",
     "output_type": "stream",
     "text": [
      "5     1348\n",
      "2      143\n",
      "12       2\n",
      "8        1\n",
      "15       1\n",
      "16       1\n",
      "23       1\n",
      "13       1\n",
      "6        1\n",
      "9        1\n",
      "Name: Duration_Hours, dtype: int64\n"
     ]
    },
    {
     "data": {
      "text/plain": [
       "<AxesSubplot:xlabel='Duration_Hours', ylabel='count'>"
      ]
     },
     "execution_count": 205,
     "metadata": {},
     "output_type": "execute_result"
    },
    {
     "data": {
      "image/png": "[encoded data removed]",
      "text/plain": [
       "<Figure size 1080x360 with 1 Axes>"
      ]
     },
     "metadata": {
      "needs_background": "light"
     },
     "output_type": "display_data"
    }
   ],
   "source": [
    "#countplot for \"Duration_Hours\" column\n",
    "print(flight[\"Duration_Hours\"].value_counts())\n",
    "plt.figure(figsize=(15,5))\n",
    "sns.countplot(x=\"Duration_Hours\",data=flight)"
   ]
  },
  {
   "cell_type": "markdown",
   "id": "26841888",
   "metadata": {},
   "source": [
    "### Hisplot"
   ]
  },
  {
   "cell_type": "code",
   "execution_count": 206,
   "id": "73ee2c7d",
   "metadata": {},
   "outputs": [
    {
     "name": "stdout",
     "output_type": "stream",
     "text": [
      "12506    1345\n",
      "8579       21\n",
      "5955       19\n",
      "5954       15\n",
      "5950       10\n",
      "10293       9\n",
      "10229       8\n",
      "9840        7\n",
      "6092        7\n",
      "9768        4\n",
      "6165        3\n",
      "10050       2\n",
      "9293        2\n",
      "10397       2\n",
      "10503       2\n",
      "10680       2\n",
      "6827        2\n",
      "8936        2\n",
      "8947        2\n",
      "11552       1\n",
      "10338       1\n",
      "10363       1\n",
      "10364       1\n",
      "10386       1\n",
      "12337       1\n",
      "10470       1\n",
      "10520       1\n",
      "11623       1\n",
      "10545       1\n",
      "11900       1\n",
      "11625       1\n",
      "11021       1\n",
      "11330       1\n",
      "10712       1\n",
      "7897        1\n",
      "10102       1\n",
      "7835        1\n",
      "8580        1\n",
      "8652        1\n",
      "9000        1\n",
      "9146        1\n",
      "9157        1\n",
      "9210        1\n",
      "9525        1\n",
      "9646        1\n",
      "9682        1\n",
      "9734        1\n",
      "9750        1\n",
      "9830        1\n",
      "9839        1\n",
      "7698        1\n",
      "9942        1\n",
      "9978        1\n",
      "10007       1\n",
      "2506        1\n",
      "Name: Price, dtype: int64\n"
     ]
    },
    {
     "data": {
      "text/plain": [
       "<AxesSubplot:xlabel='Price', ylabel='Count'>"
      ]
     },
     "execution_count": 206,
     "metadata": {},
     "output_type": "execute_result"
    },
    {
     "data": {
      "image/png": "[encoded data removed]",
      "text/plain": [
       "<Figure size 720x360 with 1 Axes>"
      ]
     },
     "metadata": {
      "needs_background": "light"
     },
     "output_type": "display_data"
    }
   ],
   "source": [
    "#HistPlot for \"Price\" column\n",
    "print(flight[\"Price\"].value_counts())\n",
    "plt.figure(figsize=(10,5))\n",
    "sns.histplot(x=\"Price\",data=flight, bins=30)"
   ]
  },
  {
   "cell_type": "markdown",
   "id": "80a8aa92",
   "metadata": {},
   "source": [
    "### Bivariate Analysis\n",
    "####Using Barplot"
   ]
  },
  {
   "cell_type": "code",
   "execution_count": 207,
   "id": "e7b1ff82",
   "metadata": {},
   "outputs": [
    {
     "data": {
      "text/plain": [
       "<AxesSubplot:xlabel='Price', ylabel='Airline'>"
      ]
     },
     "execution_count": 207,
     "metadata": {},
     "output_type": "execute_result"
    },
    {
     "data": {
      "image/png": "[encoded data removed]",
      "text/plain": [
       "<Figure size 360x720 with 1 Axes>"
      ]
     },
     "metadata": {
      "needs_background": "light"
     },
     "output_type": "display_data"
    }
   ],
   "source": [
    "#BarPlot for comparision between \"Airline\" column and \"Price\" column\n",
    "plt.figure(figsize=(5,10))\n",
    "sns.barplot(y=\"Airline\",data=flight, x='Price')"
   ]
  },
  {
   "cell_type": "code",
   "execution_count": 208,
   "id": "6b8647d4",
   "metadata": {},
   "outputs": [
    {
     "data": {
      "text/plain": [
       "<AxesSubplot:xlabel='Source', ylabel='Price'>"
      ]
     },
     "execution_count": 208,
     "metadata": {},
     "output_type": "execute_result"
    },
    {
     "data": {
      "image/png": "[encoded data removed]",
      "text/plain": [
       "<Figure size 1080x360 with 1 Axes>"
      ]
     },
     "metadata": {
      "needs_background": "light"
     },
     "output_type": "display_data"
    }
   ],
   "source": [
    "#BarPlot for comparision between \"Source\" column and \"Price\" column\n",
    "plt.figure(figsize=(15,5))\n",
    "sns.barplot(x=\"Source\",data=flight, y='Price')"
   ]
  },
  {
   "cell_type": "code",
   "execution_count": 209,
   "id": "a2ea4e5a",
   "metadata": {},
   "outputs": [
    {
     "data": {
      "text/plain": [
       "<AxesSubplot:xlabel='Total_Stops', ylabel='Price'>"
      ]
     },
     "execution_count": 209,
     "metadata": {},
     "output_type": "execute_result"
    },
    {
     "data": {
      "image/png": "[encoded data removed]",
      "text/plain": [
       "<Figure size 360x360 with 1 Axes>"
      ]
     },
     "metadata": {
      "needs_background": "light"
     },
     "output_type": "display_data"
    }
   ],
   "source": [
    "#BarPlot for comparision between \"Total_Stops\" column and \"Price\" column\n",
    "plt.figure(figsize=(5,5))\n",
    "sns.barplot(x=\"Total_Stops\",data=flight, y='Price')"
   ]
  },
  {
   "cell_type": "code",
   "execution_count": 210,
   "id": "796f7305",
   "metadata": {},
   "outputs": [
    {
     "data": {
      "text/plain": [
       "<AxesSubplot:xlabel='Dep_Time', ylabel='Price'>"
      ]
     },
     "execution_count": 210,
     "metadata": {},
     "output_type": "execute_result"
    },
    {
     "data": {
      "image/png": "[encoded data removed]",
      "text/plain": [
       "<Figure size 1080x360 with 1 Axes>"
      ]
     },
     "metadata": {
      "needs_background": "light"
     },
     "output_type": "display_data"
    }
   ],
   "source": [
    "#BarPlot for comparision between \"Arrival_Hour\" column and \"Price\" column\n",
    "plt.figure(figsize=(15,5))\n",
    "sns.barplot(x=\"Dep_Time\",data=flight, y='Price')"
   ]
  },
  {
   "cell_type": "code",
   "execution_count": 211,
   "id": "0cb2d45e",
   "metadata": {},
   "outputs": [
    {
     "data": {
      "text/plain": [
       "<AxesSubplot:xlabel='Duration_Hours', ylabel='Price'>"
      ]
     },
     "execution_count": 211,
     "metadata": {},
     "output_type": "execute_result"
    },
    {
     "data": {
      "image/png": "[encoded data removed]",
      "text/plain": [
       "<Figure size 1080x360 with 1 Axes>"
      ]
     },
     "metadata": {
      "needs_background": "light"
     },
     "output_type": "display_data"
    }
   ],
   "source": [
    "#BarPlot for comparision between \"Duration_HoursDuration_Hours\" column and \"Price\" column\n",
    "plt.figure(figsize=(15,5))\n",
    "sns.barplot(x=\"Duration_Hours\",data=flight, y='Price')"
   ]
  },
  {
   "cell_type": "code",
   "execution_count": 212,
   "id": "09836b83",
   "metadata": {},
   "outputs": [
    {
     "data": {
      "text/plain": [
       "<AxesSubplot:xlabel='Duration_Minutes', ylabel='Price'>"
      ]
     },
     "execution_count": 212,
     "metadata": {},
     "output_type": "execute_result"
    },
    {
     "data": {
      "image/png": "[encoded data removed]",
      "text/plain": [
       "<Figure size 1080x360 with 1 Axes>"
      ]
     },
     "metadata": {
      "needs_background": "light"
     },
     "output_type": "display_data"
    }
   ],
   "source": [
    "#BarPlot for comparision between \"Duration_Minutes\" column and \"Price\" column\n",
    "plt.figure(figsize=(15,5))\n",
    "sns.barplot(x=\"Duration_Minutes\",data=flight, y='Price')"
   ]
  },
  {
   "cell_type": "code",
   "execution_count": 213,
   "id": "3726ef5d",
   "metadata": {},
   "outputs": [
    {
     "data": {
      "text/plain": [
       "<seaborn.axisgrid.PairGrid at 0x2d8845514c0>"
      ]
     },
     "execution_count": 213,
     "metadata": {},
     "output_type": "execute_result"
    },
    {
     "data": {
      "image/png": "[encoded data removed]",
      "text/plain": [
       "<Figure size 427.875x360 with 6 Axes>"
      ]
     },
     "metadata": {
      "needs_background": "light"
     },
     "output_type": "display_data"
    }
   ],
   "source": [
    "sns.pairplot(flight,hue=\"Price\")\n"
   ]
  },
  {
   "cell_type": "markdown",
   "id": "7987f749",
   "metadata": {},
   "source": [
    "#### Label Encoding"
   ]
  },
  {
   "cell_type": "code",
   "execution_count": 214,
   "id": "ef7971a5",
   "metadata": {},
   "outputs": [],
   "source": [
    "enc = LabelEncoder()\n",
    "for i in flight.columns:\n",
    "    if flight[i].dtypes==\"object\":\n",
    "        flight[i]=enc.fit_transform(flight[i].values.reshape(-1,1))"
   ]
  },
  {
   "cell_type": "code",
   "execution_count": 215,
   "id": "4ced9af4",
   "metadata": {},
   "outputs": [
    {
     "data": {
      "text/plain": [
       "Airline             int32\n",
       "Source              int32\n",
       "Destination         int32\n",
       "Dep_Time            int32\n",
       "Total_Stops         int32\n",
       "Price               int64\n",
       "Duration_Hours      int64\n",
       "Duration_Minutes    int64\n",
       "dtype: object"
      ]
     },
     "execution_count": 215,
     "metadata": {},
     "output_type": "execute_result"
    }
   ],
   "source": [
    "flight.dtypes"
   ]
  },
  {
   "cell_type": "code",
   "execution_count": 216,
   "id": "3bf41d6a",
   "metadata": {},
   "outputs": [
    {
     "data": {
      "text/html": [
       "<div>\n",
       "<style scoped>\n",
       "    .dataframe tbody tr th:only-of-type {\n",
       "        vertical-align: middle;\n",
       "    }\n",
       "\n",
       "    .dataframe tbody tr th {\n",
       "        vertical-align: top;\n",
       "    }\n",
       "\n",
       "    .dataframe thead th {\n",
       "        text-align: right;\n",
       "    }\n",
       "</style>\n",
       "<table border=\"1\" class=\"dataframe\">\n",
       "  <thead>\n",
       "    <tr style=\"text-align: right;\">\n",
       "      <th></th>\n",
       "      <th>Airline</th>\n",
       "      <th>Source</th>\n",
       "      <th>Destination</th>\n",
       "      <th>Dep_Time</th>\n",
       "      <th>Total_Stops</th>\n",
       "      <th>Price</th>\n",
       "      <th>Duration_Hours</th>\n",
       "      <th>Duration_Minutes</th>\n",
       "    </tr>\n",
       "  </thead>\n",
       "  <tbody>\n",
       "    <tr>\n",
       "      <th>0</th>\n",
       "      <td>2</td>\n",
       "      <td>0</td>\n",
       "      <td>3</td>\n",
       "      <td>33</td>\n",
       "      <td>0</td>\n",
       "      <td>5950</td>\n",
       "      <td>2</td>\n",
       "      <td>5</td>\n",
       "    </tr>\n",
       "    <tr>\n",
       "      <th>1</th>\n",
       "      <td>2</td>\n",
       "      <td>2</td>\n",
       "      <td>0</td>\n",
       "      <td>37</td>\n",
       "      <td>0</td>\n",
       "      <td>5950</td>\n",
       "      <td>2</td>\n",
       "      <td>10</td>\n",
       "    </tr>\n",
       "    <tr>\n",
       "      <th>2</th>\n",
       "      <td>2</td>\n",
       "      <td>1</td>\n",
       "      <td>2</td>\n",
       "      <td>40</td>\n",
       "      <td>0</td>\n",
       "      <td>5950</td>\n",
       "      <td>2</td>\n",
       "      <td>5</td>\n",
       "    </tr>\n",
       "    <tr>\n",
       "      <th>3</th>\n",
       "      <td>2</td>\n",
       "      <td>3</td>\n",
       "      <td>4</td>\n",
       "      <td>44</td>\n",
       "      <td>0</td>\n",
       "      <td>5950</td>\n",
       "      <td>2</td>\n",
       "      <td>10</td>\n",
       "    </tr>\n",
       "    <tr>\n",
       "      <th>4</th>\n",
       "      <td>4</td>\n",
       "      <td>0</td>\n",
       "      <td>1</td>\n",
       "      <td>28</td>\n",
       "      <td>0</td>\n",
       "      <td>5950</td>\n",
       "      <td>2</td>\n",
       "      <td>5</td>\n",
       "    </tr>\n",
       "  </tbody>\n",
       "</table>\n",
       "</div>"
      ],
      "text/plain": [
       "   Airline  Source  Destination  Dep_Time  Total_Stops  Price  Duration_Hours  \\\n",
       "0        2       0            3        33            0   5950               2   \n",
       "1        2       2            0        37            0   5950               2   \n",
       "2        2       1            2        40            0   5950               2   \n",
       "3        2       3            4        44            0   5950               2   \n",
       "4        4       0            1        28            0   5950               2   \n",
       "\n",
       "   Duration_Minutes  \n",
       "0                 5  \n",
       "1                10  \n",
       "2                 5  \n",
       "3                10  \n",
       "4                 5  "
      ]
     },
     "execution_count": 216,
     "metadata": {},
     "output_type": "execute_result"
    }
   ],
   "source": [
    "flight.head()"
   ]
  },
  {
   "cell_type": "code",
   "execution_count": 217,
   "id": "359dfc19",
   "metadata": {},
   "outputs": [
    {
     "data": {
      "text/html": [
       "<div>\n",
       "<style scoped>\n",
       "    .dataframe tbody tr th:only-of-type {\n",
       "        vertical-align: middle;\n",
       "    }\n",
       "\n",
       "    .dataframe tbody tr th {\n",
       "        vertical-align: top;\n",
       "    }\n",
       "\n",
       "    .dataframe thead th {\n",
       "        text-align: right;\n",
       "    }\n",
       "</style>\n",
       "<table border=\"1\" class=\"dataframe\">\n",
       "  <thead>\n",
       "    <tr style=\"text-align: right;\">\n",
       "      <th></th>\n",
       "      <th>Airline</th>\n",
       "      <th>Source</th>\n",
       "      <th>Destination</th>\n",
       "      <th>Dep_Time</th>\n",
       "      <th>Total_Stops</th>\n",
       "      <th>Price</th>\n",
       "      <th>Duration_Hours</th>\n",
       "      <th>Duration_Minutes</th>\n",
       "    </tr>\n",
       "  </thead>\n",
       "  <tbody>\n",
       "    <tr>\n",
       "      <th>Airline</th>\n",
       "      <td>1.000000</td>\n",
       "      <td>-0.005202</td>\n",
       "      <td>0.038710</td>\n",
       "      <td>-0.064128</td>\n",
       "      <td>NaN</td>\n",
       "      <td>-0.125638</td>\n",
       "      <td>-0.075799</td>\n",
       "      <td>-0.128079</td>\n",
       "    </tr>\n",
       "    <tr>\n",
       "      <th>Source</th>\n",
       "      <td>-0.005202</td>\n",
       "      <td>1.000000</td>\n",
       "      <td>0.039760</td>\n",
       "      <td>0.008264</td>\n",
       "      <td>NaN</td>\n",
       "      <td>0.005916</td>\n",
       "      <td>-0.004310</td>\n",
       "      <td>-0.003377</td>\n",
       "    </tr>\n",
       "    <tr>\n",
       "      <th>Destination</th>\n",
       "      <td>0.038710</td>\n",
       "      <td>0.039760</td>\n",
       "      <td>1.000000</td>\n",
       "      <td>-0.093876</td>\n",
       "      <td>NaN</td>\n",
       "      <td>-0.120898</td>\n",
       "      <td>-0.046521</td>\n",
       "      <td>-0.092176</td>\n",
       "    </tr>\n",
       "    <tr>\n",
       "      <th>Dep_Time</th>\n",
       "      <td>-0.064128</td>\n",
       "      <td>0.008264</td>\n",
       "      <td>-0.093876</td>\n",
       "      <td>1.000000</td>\n",
       "      <td>NaN</td>\n",
       "      <td>0.123500</td>\n",
       "      <td>0.090129</td>\n",
       "      <td>0.126710</td>\n",
       "    </tr>\n",
       "    <tr>\n",
       "      <th>Total_Stops</th>\n",
       "      <td>NaN</td>\n",
       "      <td>NaN</td>\n",
       "      <td>NaN</td>\n",
       "      <td>NaN</td>\n",
       "      <td>NaN</td>\n",
       "      <td>NaN</td>\n",
       "      <td>NaN</td>\n",
       "      <td>NaN</td>\n",
       "    </tr>\n",
       "    <tr>\n",
       "      <th>Price</th>\n",
       "      <td>-0.125638</td>\n",
       "      <td>0.005916</td>\n",
       "      <td>-0.120898</td>\n",
       "      <td>0.123500</td>\n",
       "      <td>NaN</td>\n",
       "      <td>1.000000</td>\n",
       "      <td>0.515832</td>\n",
       "      <td>0.824094</td>\n",
       "    </tr>\n",
       "    <tr>\n",
       "      <th>Duration_Hours</th>\n",
       "      <td>-0.075799</td>\n",
       "      <td>-0.004310</td>\n",
       "      <td>-0.046521</td>\n",
       "      <td>0.090129</td>\n",
       "      <td>NaN</td>\n",
       "      <td>0.515832</td>\n",
       "      <td>1.000000</td>\n",
       "      <td>0.771873</td>\n",
       "    </tr>\n",
       "    <tr>\n",
       "      <th>Duration_Minutes</th>\n",
       "      <td>-0.128079</td>\n",
       "      <td>-0.003377</td>\n",
       "      <td>-0.092176</td>\n",
       "      <td>0.126710</td>\n",
       "      <td>NaN</td>\n",
       "      <td>0.824094</td>\n",
       "      <td>0.771873</td>\n",
       "      <td>1.000000</td>\n",
       "    </tr>\n",
       "  </tbody>\n",
       "</table>\n",
       "</div>"
      ],
      "text/plain": [
       "                   Airline    Source  Destination  Dep_Time  Total_Stops  \\\n",
       "Airline           1.000000 -0.005202     0.038710 -0.064128          NaN   \n",
       "Source           -0.005202  1.000000     0.039760  0.008264          NaN   \n",
       "Destination       0.038710  0.039760     1.000000 -0.093876          NaN   \n",
       "Dep_Time         -0.064128  0.008264    -0.093876  1.000000          NaN   \n",
       "Total_Stops            NaN       NaN          NaN       NaN          NaN   \n",
       "Price            -0.125638  0.005916    -0.120898  0.123500          NaN   \n",
       "Duration_Hours   -0.075799 -0.004310    -0.046521  0.090129          NaN   \n",
       "Duration_Minutes -0.128079 -0.003377    -0.092176  0.126710          NaN   \n",
       "\n",
       "                     Price  Duration_Hours  Duration_Minutes  \n",
       "Airline          -0.125638       -0.075799         -0.128079  \n",
       "Source            0.005916       -0.004310         -0.003377  \n",
       "Destination      -0.120898       -0.046521         -0.092176  \n",
       "Dep_Time          0.123500        0.090129          0.126710  \n",
       "Total_Stops            NaN             NaN               NaN  \n",
       "Price             1.000000        0.515832          0.824094  \n",
       "Duration_Hours    0.515832        1.000000          0.771873  \n",
       "Duration_Minutes  0.824094        0.771873          1.000000  "
      ]
     },
     "execution_count": 217,
     "metadata": {},
     "output_type": "execute_result"
    }
   ],
   "source": [
    "flight.corr()"
   ]
  },
  {
   "cell_type": "code",
   "execution_count": 218,
   "id": "26bdce5a",
   "metadata": {},
   "outputs": [
    {
     "data": {
      "text/plain": [
       "Airline            -0.125638\n",
       "Destination        -0.120898\n",
       "Source              0.005916\n",
       "Dep_Time            0.123500\n",
       "Duration_Hours      0.515832\n",
       "Duration_Minutes    0.824094\n",
       "Price               1.000000\n",
       "Total_Stops              NaN\n",
       "Name: Price, dtype: float64"
      ]
     },
     "execution_count": 218,
     "metadata": {},
     "output_type": "execute_result"
    }
   ],
   "source": [
    "flight.corr()[\"Price\"].sort_values()"
   ]
  },
  {
   "cell_type": "markdown",
   "id": "19f3cbe8",
   "metadata": {},
   "source": [
    "### Checking Correlation with HeatMap"
   ]
  },
  {
   "cell_type": "code",
   "execution_count": 219,
   "id": "e0f558eb",
   "metadata": {},
   "outputs": [
    {
     "data": {
      "text/plain": [
       "<AxesSubplot:>"
      ]
     },
     "execution_count": 219,
     "metadata": {},
     "output_type": "execute_result"
    },
    {
     "data": {
      "image/png": "[encoded data removed]",
      "text/plain": [
       "<Figure size 2160x1440 with 2 Axes>"
      ]
     },
     "metadata": {
      "needs_background": "light"
     },
     "output_type": "display_data"
    }
   ],
   "source": [
    "plt.figure(figsize=(30,20))\n",
    "sns.heatmap(flight.corr(),annot=True,annot_kws= {\"size\": 10}, linewidth=0.5, linecolor='white', fmt='.2f')"
   ]
  },
  {
   "cell_type": "markdown",
   "id": "6e54c03c",
   "metadata": {},
   "source": [
    "### Cheking Correlation with Barplot"
   ]
  },
  {
   "cell_type": "code",
   "execution_count": 220,
   "id": "66f96347",
   "metadata": {},
   "outputs": [
    {
     "data": {
      "image/png": "[encoded data removed]",
      "text/plain": [
       "<Figure size 1080x504 with 1 Axes>"
      ]
     },
     "metadata": {
      "needs_background": "light"
     },
     "output_type": "display_data"
    }
   ],
   "source": [
    "plt.figure(figsize=(15,7))\n",
    "flight.corr()['Price'].sort_values(ascending=True).drop(['Price']).plot(kind='bar',color='c')\n",
    "plt.xlabel('Feature',fontsize=18)\n",
    "plt.ylabel('Target',fontsize=14)\n",
    "plt.title('Correlation',fontsize=18)\n",
    "plt.show()"
   ]
  },
  {
   "cell_type": "markdown",
   "id": "060b2088",
   "metadata": {},
   "source": [
    "### Checking Outliers"
   ]
  },
  {
   "cell_type": "code",
   "execution_count": 221,
   "id": "6f598a75",
   "metadata": {},
   "outputs": [
    {
     "data": {
      "image/png": "[encoded data removed]",
      "text/plain": [
       "<Figure size 1008x3024 with 8 Axes>"
      ]
     },
     "metadata": {
      "needs_background": "light"
     },
     "output_type": "display_data"
    }
   ],
   "source": [
    "collist= flight.columns.values\n",
    "ncol=14\n",
    "nrows=7\n",
    "plt.figure(figsize=(ncol,3*ncol))\n",
    "for i in range(0,len(collist)):\n",
    "    plt.subplot(nrows,ncol,i+1)\n",
    "    sns.boxplot(data=flight[collist[i]],color='green',orient='v')\n",
    "    plt.tight_layout()"
   ]
  },
  {
   "cell_type": "markdown",
   "id": "19793982",
   "metadata": {},
   "source": [
    "### Checking skweness\n"
   ]
  },
  {
   "cell_type": "code",
   "execution_count": 222,
   "id": "a23f937c",
   "metadata": {},
   "outputs": [
    {
     "data": {
      "text/plain": [
       "Airline            -0.091239\n",
       "Source              0.358198\n",
       "Destination        -0.112331\n",
       "Dep_Time            0.188920\n",
       "Total_Stops         0.000000\n",
       "Price              -3.509232\n",
       "Duration_Hours      3.193993\n",
       "Duration_Minutes   -2.663794\n",
       "dtype: float64"
      ]
     },
     "execution_count": 222,
     "metadata": {},
     "output_type": "execute_result"
    }
   ],
   "source": [
    "flight.skew()"
   ]
  },
  {
   "cell_type": "markdown",
   "id": "ff379192",
   "metadata": {},
   "source": [
    "### Spliting data into Target and Features:\n"
   ]
  },
  {
   "cell_type": "code",
   "execution_count": 223,
   "id": "89de2762",
   "metadata": {},
   "outputs": [],
   "source": [
    "x=flight.drop(\"Price\",axis=1)\n",
    "y=flight[\"Price\"]"
   ]
  },
  {
   "cell_type": "code",
   "execution_count": 224,
   "id": "1e04c5ea",
   "metadata": {},
   "outputs": [
    {
     "data": {
      "text/plain": [
       "Index(['Airline', 'Source', 'Destination', 'Dep_Time', 'Total_Stops',\n",
       "       'Duration_Hours', 'Duration_Minutes'],\n",
       "      dtype='object')"
      ]
     },
     "execution_count": 224,
     "metadata": {},
     "output_type": "execute_result"
    }
   ],
   "source": [
    "x.columns"
   ]
  },
  {
   "cell_type": "code",
   "execution_count": 225,
   "id": "48727478",
   "metadata": {},
   "outputs": [
    {
     "data": {
      "text/html": [
       "<div>\n",
       "<style scoped>\n",
       "    .dataframe tbody tr th:only-of-type {\n",
       "        vertical-align: middle;\n",
       "    }\n",
       "\n",
       "    .dataframe tbody tr th {\n",
       "        vertical-align: top;\n",
       "    }\n",
       "\n",
       "    .dataframe thead th {\n",
       "        text-align: right;\n",
       "    }\n",
       "</style>\n",
       "<table border=\"1\" class=\"dataframe\">\n",
       "  <thead>\n",
       "    <tr style=\"text-align: right;\">\n",
       "      <th></th>\n",
       "      <th>Airline</th>\n",
       "      <th>Source</th>\n",
       "      <th>Destination</th>\n",
       "      <th>Dep_Time</th>\n",
       "      <th>Total_Stops</th>\n",
       "      <th>Duration_Hours</th>\n",
       "      <th>Duration_Minutes</th>\n",
       "    </tr>\n",
       "  </thead>\n",
       "  <tbody>\n",
       "    <tr>\n",
       "      <th>0</th>\n",
       "      <td>2</td>\n",
       "      <td>0</td>\n",
       "      <td>3</td>\n",
       "      <td>33</td>\n",
       "      <td>0</td>\n",
       "      <td>2</td>\n",
       "      <td>5</td>\n",
       "    </tr>\n",
       "    <tr>\n",
       "      <th>1</th>\n",
       "      <td>2</td>\n",
       "      <td>2</td>\n",
       "      <td>0</td>\n",
       "      <td>37</td>\n",
       "      <td>0</td>\n",
       "      <td>2</td>\n",
       "      <td>10</td>\n",
       "    </tr>\n",
       "    <tr>\n",
       "      <th>2</th>\n",
       "      <td>2</td>\n",
       "      <td>1</td>\n",
       "      <td>2</td>\n",
       "      <td>40</td>\n",
       "      <td>0</td>\n",
       "      <td>2</td>\n",
       "      <td>5</td>\n",
       "    </tr>\n",
       "    <tr>\n",
       "      <th>3</th>\n",
       "      <td>2</td>\n",
       "      <td>3</td>\n",
       "      <td>4</td>\n",
       "      <td>44</td>\n",
       "      <td>0</td>\n",
       "      <td>2</td>\n",
       "      <td>10</td>\n",
       "    </tr>\n",
       "    <tr>\n",
       "      <th>4</th>\n",
       "      <td>4</td>\n",
       "      <td>0</td>\n",
       "      <td>1</td>\n",
       "      <td>28</td>\n",
       "      <td>0</td>\n",
       "      <td>2</td>\n",
       "      <td>5</td>\n",
       "    </tr>\n",
       "  </tbody>\n",
       "</table>\n",
       "</div>"
      ],
      "text/plain": [
       "   Airline  Source  Destination  Dep_Time  Total_Stops  Duration_Hours  \\\n",
       "0        2       0            3        33            0               2   \n",
       "1        2       2            0        37            0               2   \n",
       "2        2       1            2        40            0               2   \n",
       "3        2       3            4        44            0               2   \n",
       "4        4       0            1        28            0               2   \n",
       "\n",
       "   Duration_Minutes  \n",
       "0                 5  \n",
       "1                10  \n",
       "2                 5  \n",
       "3                10  \n",
       "4                 5  "
      ]
     },
     "execution_count": 225,
     "metadata": {},
     "output_type": "execute_result"
    }
   ],
   "source": [
    "x.head()"
   ]
  },
  {
   "cell_type": "code",
   "execution_count": 226,
   "id": "a2748aab",
   "metadata": {},
   "outputs": [
    {
     "data": {
      "text/plain": [
       "0    5950\n",
       "1    5950\n",
       "2    5950\n",
       "3    5950\n",
       "4    5950\n",
       "Name: Price, dtype: int64"
      ]
     },
     "execution_count": 226,
     "metadata": {},
     "output_type": "execute_result"
    }
   ],
   "source": [
    "y.head()"
   ]
  },
  {
   "cell_type": "code",
   "execution_count": 227,
   "id": "ad1da2dd",
   "metadata": {},
   "outputs": [
    {
     "data": {
      "text/plain": [
       "((1500, 7), (1500,))"
      ]
     },
     "execution_count": 227,
     "metadata": {},
     "output_type": "execute_result"
    }
   ],
   "source": [
    "x.shape, y.shape\n"
   ]
  },
  {
   "cell_type": "markdown",
   "id": "12708992",
   "metadata": {},
   "source": [
    "### Scaling data using Standard Scaler\n"
   ]
  },
  {
   "cell_type": "code",
   "execution_count": 228,
   "id": "3c0d43d8",
   "metadata": {},
   "outputs": [],
   "source": [
    "scaler = StandardScaler()\n",
    "x = pd.DataFrame(scaler.fit_transform(x), columns = x.columns)"
   ]
  },
  {
   "cell_type": "code",
   "execution_count": 229,
   "id": "48a1cd12",
   "metadata": {},
   "outputs": [
    {
     "data": {
      "text/html": [
       "<div>\n",
       "<style scoped>\n",
       "    .dataframe tbody tr th:only-of-type {\n",
       "        vertical-align: middle;\n",
       "    }\n",
       "\n",
       "    .dataframe tbody tr th {\n",
       "        vertical-align: top;\n",
       "    }\n",
       "\n",
       "    .dataframe thead th {\n",
       "        text-align: right;\n",
       "    }\n",
       "</style>\n",
       "<table border=\"1\" class=\"dataframe\">\n",
       "  <thead>\n",
       "    <tr style=\"text-align: right;\">\n",
       "      <th></th>\n",
       "      <th>Airline</th>\n",
       "      <th>Source</th>\n",
       "      <th>Destination</th>\n",
       "      <th>Dep_Time</th>\n",
       "      <th>Total_Stops</th>\n",
       "      <th>Duration_Hours</th>\n",
       "      <th>Duration_Minutes</th>\n",
       "    </tr>\n",
       "  </thead>\n",
       "  <tbody>\n",
       "    <tr>\n",
       "      <th>0</th>\n",
       "      <td>-0.551280</td>\n",
       "      <td>-1.032529</td>\n",
       "      <td>0.713350</td>\n",
       "      <td>0.461117</td>\n",
       "      <td>0.0</td>\n",
       "      <td>-2.430924</td>\n",
       "      <td>-4.522701</td>\n",
       "    </tr>\n",
       "    <tr>\n",
       "      <th>1</th>\n",
       "      <td>-0.551280</td>\n",
       "      <td>0.682635</td>\n",
       "      <td>-1.563300</td>\n",
       "      <td>0.728871</td>\n",
       "      <td>0.0</td>\n",
       "      <td>-2.430924</td>\n",
       "      <td>-3.557687</td>\n",
       "    </tr>\n",
       "    <tr>\n",
       "      <th>2</th>\n",
       "      <td>-0.551280</td>\n",
       "      <td>-0.174947</td>\n",
       "      <td>-0.045533</td>\n",
       "      <td>0.929687</td>\n",
       "      <td>0.0</td>\n",
       "      <td>-2.430924</td>\n",
       "      <td>-4.522701</td>\n",
       "    </tr>\n",
       "    <tr>\n",
       "      <th>3</th>\n",
       "      <td>-0.551280</td>\n",
       "      <td>1.540217</td>\n",
       "      <td>1.472234</td>\n",
       "      <td>1.197441</td>\n",
       "      <td>0.0</td>\n",
       "      <td>-2.430924</td>\n",
       "      <td>-3.557687</td>\n",
       "    </tr>\n",
       "    <tr>\n",
       "      <th>4</th>\n",
       "      <td>0.735755</td>\n",
       "      <td>-1.032529</td>\n",
       "      <td>-0.804417</td>\n",
       "      <td>0.126425</td>\n",
       "      <td>0.0</td>\n",
       "      <td>-2.430924</td>\n",
       "      <td>-4.522701</td>\n",
       "    </tr>\n",
       "  </tbody>\n",
       "</table>\n",
       "</div>"
      ],
      "text/plain": [
       "    Airline    Source  Destination  Dep_Time  Total_Stops  Duration_Hours  \\\n",
       "0 -0.551280 -1.032529     0.713350  0.461117          0.0       -2.430924   \n",
       "1 -0.551280  0.682635    -1.563300  0.728871          0.0       -2.430924   \n",
       "2 -0.551280 -0.174947    -0.045533  0.929687          0.0       -2.430924   \n",
       "3 -0.551280  1.540217     1.472234  1.197441          0.0       -2.430924   \n",
       "4  0.735755 -1.032529    -0.804417  0.126425          0.0       -2.430924   \n",
       "\n",
       "   Duration_Minutes  \n",
       "0         -4.522701  \n",
       "1         -3.557687  \n",
       "2         -4.522701  \n",
       "3         -3.557687  \n",
       "4         -4.522701  "
      ]
     },
     "execution_count": 229,
     "metadata": {},
     "output_type": "execute_result"
    }
   ],
   "source": [
    "x.head()"
   ]
  },
  {
   "cell_type": "markdown",
   "id": "89e0ce76",
   "metadata": {},
   "source": [
    "### Checking for Multicolinearity\n"
   ]
  },
  {
   "cell_type": "markdown",
   "id": "0981d2b4",
   "metadata": {},
   "source": [
    "#### VIF (Variance Inflation factor)\n"
   ]
  },
  {
   "cell_type": "code",
   "execution_count": 230,
   "id": "d1f5005f",
   "metadata": {},
   "outputs": [
    {
     "data": {
      "text/html": [
       "<div>\n",
       "<style scoped>\n",
       "    .dataframe tbody tr th:only-of-type {\n",
       "        vertical-align: middle;\n",
       "    }\n",
       "\n",
       "    .dataframe tbody tr th {\n",
       "        vertical-align: top;\n",
       "    }\n",
       "\n",
       "    .dataframe thead th {\n",
       "        text-align: right;\n",
       "    }\n",
       "</style>\n",
       "<table border=\"1\" class=\"dataframe\">\n",
       "  <thead>\n",
       "    <tr style=\"text-align: right;\">\n",
       "      <th></th>\n",
       "      <th>VIF values</th>\n",
       "      <th>Features</th>\n",
       "    </tr>\n",
       "  </thead>\n",
       "  <tbody>\n",
       "    <tr>\n",
       "      <th>0</th>\n",
       "      <td>1.020948</td>\n",
       "      <td>Airline</td>\n",
       "    </tr>\n",
       "    <tr>\n",
       "      <th>1</th>\n",
       "      <td>1.001784</td>\n",
       "      <td>Source</td>\n",
       "    </tr>\n",
       "    <tr>\n",
       "      <th>2</th>\n",
       "      <td>1.019256</td>\n",
       "      <td>Destination</td>\n",
       "    </tr>\n",
       "    <tr>\n",
       "      <th>3</th>\n",
       "      <td>1.025829</td>\n",
       "      <td>Dep_Time</td>\n",
       "    </tr>\n",
       "    <tr>\n",
       "      <th>4</th>\n",
       "      <td>NaN</td>\n",
       "      <td>Total_Stops</td>\n",
       "    </tr>\n",
       "    <tr>\n",
       "      <th>5</th>\n",
       "      <td>2.481004</td>\n",
       "      <td>Duration_Hours</td>\n",
       "    </tr>\n",
       "    <tr>\n",
       "      <th>6</th>\n",
       "      <td>2.537751</td>\n",
       "      <td>Duration_Minutes</td>\n",
       "    </tr>\n",
       "  </tbody>\n",
       "</table>\n",
       "</div>"
      ],
      "text/plain": [
       "   VIF values          Features\n",
       "0    1.020948           Airline\n",
       "1    1.001784            Source\n",
       "2    1.019256       Destination\n",
       "3    1.025829          Dep_Time\n",
       "4         NaN       Total_Stops\n",
       "5    2.481004    Duration_Hours\n",
       "6    2.537751  Duration_Minutes"
      ]
     },
     "execution_count": 230,
     "metadata": {},
     "output_type": "execute_result"
    }
   ],
   "source": [
    "vif = pd.DataFrame()\n",
    "vif['VIF values']= [variance_inflation_factor(x.values,i) for i in range(len(x.columns))]\n",
    "vif['Features'] = x.columns\n",
    "vif"
   ]
  },
  {
   "cell_type": "markdown",
   "id": "80a111ee",
   "metadata": {},
   "source": [
    "### Variance Threshold Method\n"
   ]
  },
  {
   "cell_type": "code",
   "execution_count": 231,
   "id": "c5826acb",
   "metadata": {},
   "outputs": [
    {
     "data": {
      "text/html": [
       "<style>#sk-container-id-4 {color: black;background-color: white;}#sk-container-id-4 pre{padding: 0;}#sk-container-id-4 div.sk-toggleable {background-color: white;}#sk-container-id-4 label.sk-toggleable__label {cursor: pointer;display: block;width: 100%;margin-bottom: 0;padding: 0.3em;box-sizing: border-box;text-align: center;}#sk-container-id-4 label.sk-toggleable__label-arrow:before {content: \"▸\";float: left;margin-right: 0.25em;color: #696969;}#sk-container-id-4 label.sk-toggleable__label-arrow:hover:before {color: black;}#sk-container-id-4 div.sk-estimator:hover label.sk-toggleable__label-arrow:before {color: black;}#sk-container-id-4 div.sk-toggleable__content {max-height: 0;max-width: 0;overflow: hidden;text-align: left;background-color: #f0f8ff;}#sk-container-id-4 div.sk-toggleable__content pre {margin: 0.2em;color: black;border-radius: 0.25em;background-color: #f0f8ff;}#sk-container-id-4 input.sk-toggleable__control:checked~div.sk-toggleable__content {max-height: 200px;max-width: 100%;overflow: auto;}#sk-container-id-4 input.sk-toggleable__control:checked~label.sk-toggleable__label-arrow:before {content: \"▾\";}#sk-container-id-4 div.sk-estimator input.sk-toggleable__control:checked~label.sk-toggleable__label {background-color: #d4ebff;}#sk-container-id-4 div.sk-label input.sk-toggleable__control:checked~label.sk-toggleable__label {background-color: #d4ebff;}#sk-container-id-4 input.sk-hidden--visually {border: 0;clip: rect(1px 1px 1px 1px);clip: rect(1px, 1px, 1px, 1px);height: 1px;margin: -1px;overflow: hidden;padding: 0;position: absolute;width: 1px;}#sk-container-id-4 div.sk-estimator {font-family: monospace;background-color: #f0f8ff;border: 1px dotted black;border-radius: 0.25em;box-sizing: border-box;margin-bottom: 0.5em;}#sk-container-id-4 div.sk-estimator:hover {background-color: #d4ebff;}#sk-container-id-4 div.sk-parallel-item::after {content: \"\";width: 100%;border-bottom: 1px solid gray;flex-grow: 1;}#sk-container-id-4 div.sk-label:hover label.sk-toggleable__label {background-color: #d4ebff;}#sk-container-id-4 div.sk-serial::before {content: \"\";position: absolute;border-left: 1px solid gray;box-sizing: border-box;top: 0;bottom: 0;left: 50%;z-index: 0;}#sk-container-id-4 div.sk-serial {display: flex;flex-direction: column;align-items: center;background-color: white;padding-right: 0.2em;padding-left: 0.2em;position: relative;}#sk-container-id-4 div.sk-item {position: relative;z-index: 1;}#sk-container-id-4 div.sk-parallel {display: flex;align-items: stretch;justify-content: center;background-color: white;position: relative;}#sk-container-id-4 div.sk-item::before, #sk-container-id-4 div.sk-parallel-item::before {content: \"\";position: absolute;border-left: 1px solid gray;box-sizing: border-box;top: 0;bottom: 0;left: 50%;z-index: -1;}#sk-container-id-4 div.sk-parallel-item {display: flex;flex-direction: column;z-index: 1;position: relative;background-color: white;}#sk-container-id-4 div.sk-parallel-item:first-child::after {align-self: flex-end;width: 50%;}#sk-container-id-4 div.sk-parallel-item:last-child::after {align-self: flex-start;width: 50%;}#sk-container-id-4 div.sk-parallel-item:only-child::after {width: 0;}#sk-container-id-4 div.sk-dashed-wrapped {border: 1px dashed gray;margin: 0 0.4em 0.5em 0.4em;box-sizing: border-box;padding-bottom: 0.4em;background-color: white;}#sk-container-id-4 div.sk-label label {font-family: monospace;font-weight: bold;display: inline-block;line-height: 1.2em;}#sk-container-id-4 div.sk-label-container {text-align: center;}#sk-container-id-4 div.sk-container {/* jupyter's `normalize.less` sets `[hidden] { display: none; }` but bootstrap.min.css set `[hidden] { display: none !important; }` so we also need the `!important` here to be able to override the default hidden behavior on the sphinx rendered scikit-learn.org. See: https://github.com/scikit-learn/scikit-learn/issues/21755 */display: inline-block !important;position: relative;}#sk-container-id-4 div.sk-text-repr-fallback {display: none;}</style><div id=\"sk-container-id-4\" class=\"sk-top-container\"><div class=\"sk-text-repr-fallback\"><pre>VarianceThreshold(threshold=0)</pre><b>In a Jupyter environment, please rerun this cell to show the HTML representation or trust the notebook. <br />On GitHub, the HTML representation is unable to render, please try loading this page with nbviewer.org.</b></div><div class=\"sk-container\" hidden><div class=\"sk-item\"><div class=\"sk-estimator sk-toggleable\"><input class=\"sk-toggleable__control sk-hidden--visually\" id=\"sk-estimator-id-6\" type=\"checkbox\" checked><label for=\"sk-estimator-id-6\" class=\"sk-toggleable__label sk-toggleable__label-arrow\">VarianceThreshold</label><div class=\"sk-toggleable__content\"><pre>VarianceThreshold(threshold=0)</pre></div></div></div></div></div>"
      ],
      "text/plain": [
       "VarianceThreshold(threshold=0)"
      ]
     },
     "execution_count": 231,
     "metadata": {},
     "output_type": "execute_result"
    }
   ],
   "source": [
    "var_threshold = VarianceThreshold(threshold=0)\n",
    "var_threshold.fit(x)"
   ]
  },
  {
   "cell_type": "code",
   "execution_count": 232,
   "id": "534338ec",
   "metadata": {},
   "outputs": [
    {
     "data": {
      "text/plain": [
       "array([ True,  True,  True,  True, False,  True,  True])"
      ]
     },
     "execution_count": 232,
     "metadata": {},
     "output_type": "execute_result"
    }
   ],
   "source": [
    "var_threshold.get_support()"
   ]
  },
  {
   "cell_type": "code",
   "execution_count": 233,
   "id": "deb4bed8",
   "metadata": {},
   "outputs": [
    {
     "data": {
      "text/plain": [
       "Index(['Airline', 'Source', 'Destination', 'Dep_Time', 'Duration_Hours',\n",
       "       'Duration_Minutes'],\n",
       "      dtype='object')"
      ]
     },
     "execution_count": 233,
     "metadata": {},
     "output_type": "execute_result"
    }
   ],
   "source": [
    "x.columns[var_threshold.get_support()]"
   ]
  },
  {
   "cell_type": "code",
   "execution_count": 234,
   "id": "a9aed1c1",
   "metadata": {},
   "outputs": [
    {
     "name": "stdout",
     "output_type": "stream",
     "text": [
      "1\n"
     ]
    }
   ],
   "source": [
    "# taking  out  all the  constant  columns \n",
    "cons_columns = [column for column in x.columns\n",
    "               if column not in x.columns[var_threshold.get_support()]]\n",
    "print(len(cons_columns))"
   ]
  },
  {
   "cell_type": "markdown",
   "id": "26bb46e8",
   "metadata": {},
   "source": [
    "### Selecting Kbest Features"
   ]
  },
  {
   "cell_type": "code",
   "execution_count": 235,
   "id": "f7c14baa",
   "metadata": {},
   "outputs": [],
   "source": [
    "bestfeat = SelectKBest(score_func = f_classif, k = 'all')\n",
    "fit = bestfeat.fit(x,y)\n",
    "dfscores = pd.DataFrame(fit.scores_)\n",
    "dfcolumns = pd.DataFrame(x.columns)"
   ]
  },
  {
   "cell_type": "code",
   "execution_count": 236,
   "id": "a69d73eb",
   "metadata": {},
   "outputs": [
    {
     "name": "stdout",
     "output_type": "stream",
     "text": [
      "            Feature       Score\n",
      "6  Duration_Minutes  246.239769\n",
      "5    Duration_Hours  226.876543\n",
      "0           Airline    2.526158\n",
      "2       Destination    1.381302\n",
      "1            Source    0.835614\n",
      "3          Dep_Time    0.660808\n"
     ]
    }
   ],
   "source": [
    "fit = bestfeat.fit(x,y)\n",
    "dfscores = pd.DataFrame(fit.scores_)\n",
    "dfcolumns = pd.DataFrame(x.columns)\n",
    "dfcolumns.head()\n",
    "featureScores = pd.concat([dfcolumns,dfscores],axis = 1)\n",
    "featureScores.columns = ['Feature', 'Score']\n",
    "print(featureScores.nlargest(40,'Score'))"
   ]
  },
  {
   "cell_type": "code",
   "execution_count": 237,
   "id": "bbed2eed",
   "metadata": {},
   "outputs": [],
   "source": [
    "#checking again \n",
    "bestfeat = SelectKBest(score_func = f_classif, k = 'all')\n",
    "fit = bestfeat.fit(x,y)\n",
    "dfscores = pd.DataFrame(fit.scores_)\n",
    "dfcolumns = pd.DataFrame(x.columns)"
   ]
  },
  {
   "cell_type": "code",
   "execution_count": 238,
   "id": "7d476f1d",
   "metadata": {},
   "outputs": [
    {
     "name": "stdout",
     "output_type": "stream",
     "text": [
      "            Feature       Score\n",
      "6  Duration_Minutes  246.239769\n",
      "5    Duration_Hours  226.876543\n",
      "0           Airline    2.526158\n",
      "2       Destination    1.381302\n",
      "1            Source    0.835614\n",
      "3          Dep_Time    0.660808\n"
     ]
    }
   ],
   "source": [
    "fit = bestfeat.fit(x,y)\n",
    "dfscores = pd.DataFrame(fit.scores_)\n",
    "dfcolumns = pd.DataFrame(x.columns)\n",
    "dfcolumns.head()\n",
    "featureScores = pd.concat([dfcolumns,dfscores],axis = 1)\n",
    "featureScores.columns = ['Feature', 'Score']\n",
    "print(featureScores.nlargest(40,'Score'))"
   ]
  },
  {
   "cell_type": "markdown",
   "id": "1fc9fd94",
   "metadata": {},
   "source": [
    "#### Finding the best random state among all the models\n",
    "On the basis of target column, we will understand this by Regression Problem\n",
    "\n"
   ]
  },
  {
   "cell_type": "code",
   "execution_count": 239,
   "id": "7fe39d91",
   "metadata": {},
   "outputs": [
    {
     "name": "stdout",
     "output_type": "stream",
     "text": [
      "Best Accuracy is: 0.9779121644973628 on random_state: 19\n"
     ]
    }
   ],
   "source": [
    "maxAcc = 0\n",
    "maxRS=0\n",
    "for i in range(1,100):\n",
    "    x_train,x_test,y_train,y_test = train_test_split(x,y,test_size = .25, random_state = i)\n",
    "    modDTR =  DecisionTreeRegressor()\n",
    "    modDTR.fit(x_train,y_train)\n",
    "    pred = modDTR.predict(x_test)\n",
    "    acc  = r2_score(y_test,pred)\n",
    "    if acc>maxAcc:\n",
    "        maxAcc=acc\n",
    "        maxRS=i\n",
    "print(f\"Best Accuracy is: {maxAcc} on random_state: {maxRS}\")"
   ]
  },
  {
   "cell_type": "markdown",
   "id": "0ecc8899",
   "metadata": {},
   "source": [
    "### Creating train-test-split\n"
   ]
  },
  {
   "cell_type": "code",
   "execution_count": 240,
   "id": "ae989fad",
   "metadata": {},
   "outputs": [],
   "source": [
    "# creating new train test split using the random state.\n",
    "x_train,x_test,y_train,y_test = train_test_split(x,y,test_size = .20, random_state = maxRS)"
   ]
  },
  {
   "cell_type": "markdown",
   "id": "d6444192",
   "metadata": {},
   "source": [
    "#### 1. Linear Regression\n"
   ]
  },
  {
   "cell_type": "code",
   "execution_count": 241,
   "id": "29107d04",
   "metadata": {},
   "outputs": [
    {
     "name": "stdout",
     "output_type": "stream",
     "text": [
      "R2_score: 0.8525592198990548\n",
      "Mean abs error: 191.3900075374565\n",
      "Mean squared error: 227115.13281580622\n"
     ]
    }
   ],
   "source": [
    "# Checking r2score for Linear Regression\n",
    "LR = LinearRegression()\n",
    "LR.fit(x_train,y_train)\n",
    "\n",
    "# prediction\n",
    "predLR=LR.predict(x_test)\n",
    "print('R2_score:',r2_score(y_test,predLR))\n",
    "print('Mean abs error:',mean_absolute_error(y_test, predLR))\n",
    "print('Mean squared error:',mean_squared_error(y_test, predLR))"
   ]
  },
  {
   "cell_type": "markdown",
   "id": "25f86943",
   "metadata": {},
   "source": [
    "#### Checking the performance of the model by graph"
   ]
  },
  {
   "cell_type": "code",
   "execution_count": 242,
   "id": "3c0e1626",
   "metadata": {},
   "outputs": [
    {
     "data": {
      "image/png": "[encoded data removed]",
      "text/plain": [
       "<Figure size 720x432 with 1 Axes>"
      ]
     },
     "metadata": {
      "needs_background": "light"
     },
     "output_type": "display_data"
    }
   ],
   "source": [
    "plt.figure(figsize=(10,6))\n",
    "plt.scatter(x=y_test,y=predLR,cmap='set1')\n",
    "plt.plot(y_test,y_test,color='b')\n",
    "plt.xlabel(\"Actual Price\")\n",
    "plt.ylabel(\"Predicted Price\")\n",
    "plt.title(\"Linear regressor\")\n",
    "plt.show()"
   ]
  },
  {
   "cell_type": "markdown",
   "id": "2be3246a",
   "metadata": {},
   "source": [
    "#### 2. Random Forest Regression Model\n"
   ]
  },
  {
   "cell_type": "code",
   "execution_count": 243,
   "id": "0403e236",
   "metadata": {},
   "outputs": [
    {
     "name": "stdout",
     "output_type": "stream",
     "text": [
      "R2_Score: 0.973397495454459\n",
      "Mean abs error: 39.928206575953496\n",
      "Mean squared error: 40978.020795583834\n"
     ]
    }
   ],
   "source": [
    "# Checking R2 score for Random Forest Regressor\n",
    "RFR=RandomForestRegressor(n_estimators=600, random_state=maxRS)\n",
    "RFR.fit(x_train,y_train)\n",
    "\n",
    "# prediction\n",
    "predRFR=RFR.predict(x_test)\n",
    "print('R2_Score:',r2_score(y_test,predRFR))\n",
    "print('Mean abs error:',mean_absolute_error(y_test, predRFR))\n",
    "print('Mean squared error:',mean_squared_error(y_test, predRFR))"
   ]
  },
  {
   "cell_type": "markdown",
   "id": "1dbebf6b",
   "metadata": {},
   "source": [
    "#### Checking the performance of the model by graph\n"
   ]
  },
  {
   "cell_type": "code",
   "execution_count": 244,
   "id": "a7722cbc",
   "metadata": {},
   "outputs": [
    {
     "data": {
      "image/png": "[encoded data removed]",
      "text/plain": [
       "<Figure size 720x432 with 1 Axes>"
      ]
     },
     "metadata": {
      "needs_background": "light"
     },
     "output_type": "display_data"
    }
   ],
   "source": [
    "#Verifying the performance of the model by graph\n",
    "plt.figure(figsize=(10,6))\n",
    "plt.scatter(x=y_test,y=predRFR,color='c')\n",
    "plt.plot(y_test,y_test,color='b')\n",
    "plt.xlabel(\"Actual Price\")\n",
    "plt.ylabel(\"Predicted Price\")\n",
    "plt.title(\"Random forest regressor\")\n",
    "plt.show()"
   ]
  },
  {
   "cell_type": "markdown",
   "id": "2032ec35",
   "metadata": {},
   "source": [
    "#### 3. KNN Regressor\n"
   ]
  },
  {
   "cell_type": "code",
   "execution_count": 245,
   "id": "0aa1118c",
   "metadata": {},
   "outputs": [
    {
     "name": "stdout",
     "output_type": "stream",
     "text": [
      "R2_Score: 0.886363871968941\n",
      "Mean abs error: 101.21555555555555\n",
      "Mean squared error: 175043.05316872426\n",
      "Root Mean Squared Error:  418.3814684814855\n"
     ]
    }
   ],
   "source": [
    "# Checking R2 score for KNN regressor\n",
    "knn=KNeighborsRegressor(n_neighbors=9 )\n",
    "knn.fit(x_train,y_train)\n",
    "\n",
    "#prediction\n",
    "predknn=knn.predict(x_test)\n",
    "print('R2_Score:',r2_score(y_test,predknn))\n",
    "print('Mean abs error:',mean_absolute_error(y_test, predknn))\n",
    "print('Mean squared error:',mean_squared_error(y_test, predknn))\n",
    "print(\"Root Mean Squared Error: \", np.sqrt(mean_squared_error(y_test,predknn)))"
   ]
  },
  {
   "cell_type": "markdown",
   "id": "04940426",
   "metadata": {},
   "source": [
    "#### Checking the performance of the model by graph\n"
   ]
  },
  {
   "cell_type": "code",
   "execution_count": 246,
   "id": "25ee5593",
   "metadata": {},
   "outputs": [
    {
     "data": {
      "text/plain": [
       "Text(0.5, 1.0, 'K-nearest neighbors  regressor')"
      ]
     },
     "execution_count": 246,
     "metadata": {},
     "output_type": "execute_result"
    },
    {
     "data": {
      "image/png": "[encoded data removed]",
      "text/plain": [
       "<Figure size 720x432 with 1 Axes>"
      ]
     },
     "metadata": {
      "needs_background": "light"
     },
     "output_type": "display_data"
    }
   ],
   "source": [
    "plt.figure(figsize=(10,6))\n",
    "plt.scatter(x=y_test,y=predknn,color='orange')\n",
    "plt.plot(y_test,y_test,color='b')\n",
    "plt.xlabel(\"Actual Price\")\n",
    "plt.ylabel(\"Predicted Price\")\n",
    "plt.title(\"K-nearest neighbors  regressor\")"
   ]
  },
  {
   "cell_type": "markdown",
   "id": "3e469174",
   "metadata": {},
   "source": [
    "#### 4. Gradient boosting Regressor\n"
   ]
  },
  {
   "cell_type": "code",
   "execution_count": 247,
   "id": "db5116b4",
   "metadata": {},
   "outputs": [
    {
     "name": "stdout",
     "output_type": "stream",
     "text": [
      "R2_Score: 0.9720885588333861\n",
      "Mean abs error: 53.9229114282877\n",
      "Mean squared error: 42994.28328645586\n",
      "Root Mean Squared Error:  207.35062885473934\n"
     ]
    }
   ],
   "source": [
    "# Checking R2 score for GBR\n",
    "Gb= GradientBoostingRegressor(n_estimators=400,  random_state=maxRS, learning_rate=0.1, max_depth=3)\n",
    "Gb.fit(x_train,y_train)\n",
    "\n",
    "#prediction\n",
    "predGb=Gb.predict(x_test)\n",
    "print('R2_Score:',r2_score(y_test,predGb))\n",
    "print('Mean abs error:',mean_absolute_error(y_test, predGb))\n",
    "print('Mean squared error:',mean_squared_error(y_test, predGb))\n",
    "print(\"Root Mean Squared Error: \", np.sqrt(mean_squared_error(y_test,predGb)))"
   ]
  },
  {
   "cell_type": "markdown",
   "id": "5b5fa722",
   "metadata": {},
   "source": [
    "#### Checking the performance of the model by graph\n"
   ]
  },
  {
   "cell_type": "code",
   "execution_count": 248,
   "id": "b862b88f",
   "metadata": {},
   "outputs": [
    {
     "data": {
      "image/png": "[encoded data removed]",
      "text/plain": [
       "<Figure size 720x432 with 1 Axes>"
      ]
     },
     "metadata": {
      "needs_background": "light"
     },
     "output_type": "display_data"
    }
   ],
   "source": [
    "plt.figure(figsize=(10,6))\n",
    "plt.scatter(x=y_test,y=predGb,color='r')\n",
    "plt.plot(y_test,y_test,color='b')\n",
    "plt.xlabel(\"Actual Price\")\n",
    "plt.ylabel(\"Predicted Price\")\n",
    "plt.title(\"Gradient Boosting Regressor\")\n",
    "plt.show()"
   ]
  },
  {
   "cell_type": "markdown",
   "id": "a3d5446d",
   "metadata": {},
   "source": [
    "#### 5. Decision Tree Regressor\n"
   ]
  },
  {
   "cell_type": "code",
   "execution_count": 249,
   "id": "09b3194f",
   "metadata": {},
   "outputs": [
    {
     "name": "stdout",
     "output_type": "stream",
     "text": [
      "R2_Score: 0.981737485400094\n",
      "Mean abs error: 32.118796296296296\n",
      "Mean squared error: 28131.24988940329\n",
      "Root Mean Squared Error:  167.72373084749603\n"
     ]
    }
   ],
   "source": [
    "# Checking R2 score for GBR\n",
    "DTR= DecisionTreeRegressor()\n",
    "DTR.fit(x_train,y_train)\n",
    "\n",
    "#prediction\n",
    "predDTR=DTR.predict(x_test)\n",
    "print('R2_Score:',r2_score(y_test,predDTR))\n",
    "print('Mean abs error:',mean_absolute_error(y_test, predDTR))\n",
    "print('Mean squared error:',mean_squared_error(y_test, predDTR))\n",
    "print(\"Root Mean Squared Error: \", np.sqrt(mean_squared_error(y_test,predDTR)))"
   ]
  },
  {
   "cell_type": "markdown",
   "id": "4d50034d",
   "metadata": {},
   "source": [
    "#### Checking the performance of the model by graph\n"
   ]
  },
  {
   "cell_type": "code",
   "execution_count": 250,
   "id": "589296b1",
   "metadata": {},
   "outputs": [
    {
     "data": {
      "image/png": "[encoded data removed]",
      "text/plain": [
       "<Figure size 720x432 with 1 Axes>"
      ]
     },
     "metadata": {
      "needs_background": "light"
     },
     "output_type": "display_data"
    }
   ],
   "source": [
    "plt.figure(figsize=(10,6))\n",
    "plt.scatter(x=y_test,y=predGb,color='r')\n",
    "plt.plot(y_test,y_test,color='b')\n",
    "plt.xlabel(\"Actual Price\")\n",
    "plt.ylabel(\"Predicted Price\")\n",
    "plt.title(\"Decision Tree Regressor\")\n",
    "plt.show()"
   ]
  },
  {
   "cell_type": "markdown",
   "id": "5868f9bd",
   "metadata": {},
   "source": [
    "### Cross Validation Score for all the model\n"
   ]
  },
  {
   "cell_type": "code",
   "execution_count": 251,
   "id": "fcc07b34",
   "metadata": {},
   "outputs": [
    {
     "name": "stdout",
     "output_type": "stream",
     "text": [
      "CV score for Linear Regression:  -0.1476413871776014\n",
      "CV score for Random forest Regression:  0.053167979923595565\n",
      "CV score for KNN Regression:  0.05315624100672674\n",
      "CV score for Gradient Boosting Regression:  -0.14704886078642768\n",
      "CV score for Decision Tree Regression:  0.45315624100672663\n"
     ]
    }
   ],
   "source": [
    "#CV Score for Linear Regression\n",
    "print('CV score for Linear Regression: ',cross_val_score(LR,x,y,cv=5).mean())\n",
    "\n",
    "#CV Score for Random Forest Regression\n",
    "print('CV score for Random forest Regression: ',cross_val_score(RFR,x,y,cv=5).mean())\n",
    "\n",
    "#CV Score for KNN Regression\n",
    "print('CV score for KNN Regression: ',cross_val_score(knn,x,y,cv=5).mean())\n",
    "\n",
    "#CV Score for Gradient Boosting Regression\n",
    "print('CV score for Gradient Boosting Regression: ',cross_val_score(Gb,x,y,cv=5).mean())\n",
    "\n",
    "#CV Score for Decision Tree Regression\n",
    "print('CV score for Decision Tree Regression: ',cross_val_score(DTR,x,y,cv=5).mean())"
   ]
  },
  {
   "cell_type": "markdown",
   "id": "12147898",
   "metadata": {},
   "source": [
    "### Hyper Parameter Tuning\n"
   ]
  },
  {
   "cell_type": "code",
   "execution_count": 252,
   "id": "ef9db31e",
   "metadata": {},
   "outputs": [],
   "source": [
    "parameter = {'n_estimators':[100,200,300,400],\n",
    "             'learning_rate':[0.1,0.01,0.001,1],\n",
    "             'subsample': [0.1,0.2,0.3,0.5,1],\n",
    "             'max_depth':[1,2,3,4],\n",
    "             'alpha':[0.1,0.01,0.001,1]}"
   ]
  },
  {
   "cell_type": "code",
   "execution_count": 253,
   "id": "e0daaf9c",
   "metadata": {},
   "outputs": [],
   "source": [
    "CV_GBR = GridSearchCV(GradientBoostingRegressor(),parameter,cv=6,n_jobs = 3,verbose = 2)\n"
   ]
  },
  {
   "cell_type": "code",
   "execution_count": 254,
   "id": "2579a546",
   "metadata": {},
   "outputs": [
    {
     "name": "stdout",
     "output_type": "stream",
     "text": [
      "Fitting 6 folds for each of 1280 candidates, totalling 7680 fits\n"
     ]
    },
    {
     "data": {
      "text/html": [
       "<style>#sk-container-id-5 {color: black;background-color: white;}#sk-container-id-5 pre{padding: 0;}#sk-container-id-5 div.sk-toggleable {background-color: white;}#sk-container-id-5 label.sk-toggleable__label {cursor: pointer;display: block;width: 100%;margin-bottom: 0;padding: 0.3em;box-sizing: border-box;text-align: center;}#sk-container-id-5 label.sk-toggleable__label-arrow:before {content: \"▸\";float: left;margin-right: 0.25em;color: #696969;}#sk-container-id-5 label.sk-toggleable__label-arrow:hover:before {color: black;}#sk-container-id-5 div.sk-estimator:hover label.sk-toggleable__label-arrow:before {color: black;}#sk-container-id-5 div.sk-toggleable__content {max-height: 0;max-width: 0;overflow: hidden;text-align: left;background-color: #f0f8ff;}#sk-container-id-5 div.sk-toggleable__content pre {margin: 0.2em;color: black;border-radius: 0.25em;background-color: #f0f8ff;}#sk-container-id-5 input.sk-toggleable__control:checked~div.sk-toggleable__content {max-height: 200px;max-width: 100%;overflow: auto;}#sk-container-id-5 input.sk-toggleable__control:checked~label.sk-toggleable__label-arrow:before {content: \"▾\";}#sk-container-id-5 div.sk-estimator input.sk-toggleable__control:checked~label.sk-toggleable__label {background-color: #d4ebff;}#sk-container-id-5 div.sk-label input.sk-toggleable__control:checked~label.sk-toggleable__label {background-color: #d4ebff;}#sk-container-id-5 input.sk-hidden--visually {border: 0;clip: rect(1px 1px 1px 1px);clip: rect(1px, 1px, 1px, 1px);height: 1px;margin: -1px;overflow: hidden;padding: 0;position: absolute;width: 1px;}#sk-container-id-5 div.sk-estimator {font-family: monospace;background-color: #f0f8ff;border: 1px dotted black;border-radius: 0.25em;box-sizing: border-box;margin-bottom: 0.5em;}#sk-container-id-5 div.sk-estimator:hover {background-color: #d4ebff;}#sk-container-id-5 div.sk-parallel-item::after {content: \"\";width: 100%;border-bottom: 1px solid gray;flex-grow: 1;}#sk-container-id-5 div.sk-label:hover label.sk-toggleable__label {background-color: #d4ebff;}#sk-container-id-5 div.sk-serial::before {content: \"\";position: absolute;border-left: 1px solid gray;box-sizing: border-box;top: 0;bottom: 0;left: 50%;z-index: 0;}#sk-container-id-5 div.sk-serial {display: flex;flex-direction: column;align-items: center;background-color: white;padding-right: 0.2em;padding-left: 0.2em;position: relative;}#sk-container-id-5 div.sk-item {position: relative;z-index: 1;}#sk-container-id-5 div.sk-parallel {display: flex;align-items: stretch;justify-content: center;background-color: white;position: relative;}#sk-container-id-5 div.sk-item::before, #sk-container-id-5 div.sk-parallel-item::before {content: \"\";position: absolute;border-left: 1px solid gray;box-sizing: border-box;top: 0;bottom: 0;left: 50%;z-index: -1;}#sk-container-id-5 div.sk-parallel-item {display: flex;flex-direction: column;z-index: 1;position: relative;background-color: white;}#sk-container-id-5 div.sk-parallel-item:first-child::after {align-self: flex-end;width: 50%;}#sk-container-id-5 div.sk-parallel-item:last-child::after {align-self: flex-start;width: 50%;}#sk-container-id-5 div.sk-parallel-item:only-child::after {width: 0;}#sk-container-id-5 div.sk-dashed-wrapped {border: 1px dashed gray;margin: 0 0.4em 0.5em 0.4em;box-sizing: border-box;padding-bottom: 0.4em;background-color: white;}#sk-container-id-5 div.sk-label label {font-family: monospace;font-weight: bold;display: inline-block;line-height: 1.2em;}#sk-container-id-5 div.sk-label-container {text-align: center;}#sk-container-id-5 div.sk-container {/* jupyter's `normalize.less` sets `[hidden] { display: none; }` but bootstrap.min.css set `[hidden] { display: none !important; }` so we also need the `!important` here to be able to override the default hidden behavior on the sphinx rendered scikit-learn.org. See: https://github.com/scikit-learn/scikit-learn/issues/21755 */display: inline-block !important;position: relative;}#sk-container-id-5 div.sk-text-repr-fallback {display: none;}</style><div id=\"sk-container-id-5\" class=\"sk-top-container\"><div class=\"sk-text-repr-fallback\"><pre>GridSearchCV(cv=6, estimator=GradientBoostingRegressor(), n_jobs=3,\n",
       "             param_grid={&#x27;alpha&#x27;: [0.1, 0.01, 0.001, 1],\n",
       "                         &#x27;learning_rate&#x27;: [0.1, 0.01, 0.001, 1],\n",
       "                         &#x27;max_depth&#x27;: [1, 2, 3, 4],\n",
       "                         &#x27;n_estimators&#x27;: [100, 200, 300, 400],\n",
       "                         &#x27;subsample&#x27;: [0.1, 0.2, 0.3, 0.5, 1]},\n",
       "             verbose=2)</pre><b>In a Jupyter environment, please rerun this cell to show the HTML representation or trust the notebook. <br />On GitHub, the HTML representation is unable to render, please try loading this page with nbviewer.org.</b></div><div class=\"sk-container\" hidden><div class=\"sk-item sk-dashed-wrapped\"><div class=\"sk-label-container\"><div class=\"sk-label sk-toggleable\"><input class=\"sk-toggleable__control sk-hidden--visually\" id=\"sk-estimator-id-7\" type=\"checkbox\" ><label for=\"sk-estimator-id-7\" class=\"sk-toggleable__label sk-toggleable__label-arrow\">GridSearchCV</label><div class=\"sk-toggleable__content\"><pre>GridSearchCV(cv=6, estimator=GradientBoostingRegressor(), n_jobs=3,\n",
       "             param_grid={&#x27;alpha&#x27;: [0.1, 0.01, 0.001, 1],\n",
       "                         &#x27;learning_rate&#x27;: [0.1, 0.01, 0.001, 1],\n",
       "                         &#x27;max_depth&#x27;: [1, 2, 3, 4],\n",
       "                         &#x27;n_estimators&#x27;: [100, 200, 300, 400],\n",
       "                         &#x27;subsample&#x27;: [0.1, 0.2, 0.3, 0.5, 1]},\n",
       "             verbose=2)</pre></div></div></div><div class=\"sk-parallel\"><div class=\"sk-parallel-item\"><div class=\"sk-item\"><div class=\"sk-label-container\"><div class=\"sk-label sk-toggleable\"><input class=\"sk-toggleable__control sk-hidden--visually\" id=\"sk-estimator-id-8\" type=\"checkbox\" ><label for=\"sk-estimator-id-8\" class=\"sk-toggleable__label sk-toggleable__label-arrow\">estimator: GradientBoostingRegressor</label><div class=\"sk-toggleable__content\"><pre>GradientBoostingRegressor()</pre></div></div></div><div class=\"sk-serial\"><div class=\"sk-item\"><div class=\"sk-estimator sk-toggleable\"><input class=\"sk-toggleable__control sk-hidden--visually\" id=\"sk-estimator-id-9\" type=\"checkbox\" ><label for=\"sk-estimator-id-9\" class=\"sk-toggleable__label sk-toggleable__label-arrow\">GradientBoostingRegressor</label><div class=\"sk-toggleable__content\"><pre>GradientBoostingRegressor()</pre></div></div></div></div></div></div></div></div></div></div>"
      ],
      "text/plain": [
       "GridSearchCV(cv=6, estimator=GradientBoostingRegressor(), n_jobs=3,\n",
       "             param_grid={'alpha': [0.1, 0.01, 0.001, 1],\n",
       "                         'learning_rate': [0.1, 0.01, 0.001, 1],\n",
       "                         'max_depth': [1, 2, 3, 4],\n",
       "                         'n_estimators': [100, 200, 300, 400],\n",
       "                         'subsample': [0.1, 0.2, 0.3, 0.5, 1]},\n",
       "             verbose=2)"
      ]
     },
     "execution_count": 254,
     "metadata": {},
     "output_type": "execute_result"
    }
   ],
   "source": [
    "CV_GBR.fit(x_train,y_train)"
   ]
  },
  {
   "cell_type": "code",
   "execution_count": 255,
   "id": "4cc0b253",
   "metadata": {},
   "outputs": [
    {
     "data": {
      "text/plain": [
       "{'alpha': 0.01,\n",
       " 'learning_rate': 0.01,\n",
       " 'max_depth': 3,\n",
       " 'n_estimators': 400,\n",
       " 'subsample': 0.3}"
      ]
     },
     "execution_count": 255,
     "metadata": {},
     "output_type": "execute_result"
    }
   ],
   "source": [
    "CV_GBR.best_params_"
   ]
  },
  {
   "cell_type": "markdown",
   "id": "ab57efb7",
   "metadata": {},
   "source": [
    "#### Creating Regressor Model with Gradient Boosting Regressor"
   ]
  },
  {
   "cell_type": "code",
   "execution_count": 256,
   "id": "8186c0c1",
   "metadata": {},
   "outputs": [
    {
     "data": {
      "text/html": [
       "<style>#sk-container-id-6 {color: black;background-color: white;}#sk-container-id-6 pre{padding: 0;}#sk-container-id-6 div.sk-toggleable {background-color: white;}#sk-container-id-6 label.sk-toggleable__label {cursor: pointer;display: block;width: 100%;margin-bottom: 0;padding: 0.3em;box-sizing: border-box;text-align: center;}#sk-container-id-6 label.sk-toggleable__label-arrow:before {content: \"▸\";float: left;margin-right: 0.25em;color: #696969;}#sk-container-id-6 label.sk-toggleable__label-arrow:hover:before {color: black;}#sk-container-id-6 div.sk-estimator:hover label.sk-toggleable__label-arrow:before {color: black;}#sk-container-id-6 div.sk-toggleable__content {max-height: 0;max-width: 0;overflow: hidden;text-align: left;background-color: #f0f8ff;}#sk-container-id-6 div.sk-toggleable__content pre {margin: 0.2em;color: black;border-radius: 0.25em;background-color: #f0f8ff;}#sk-container-id-6 input.sk-toggleable__control:checked~div.sk-toggleable__content {max-height: 200px;max-width: 100%;overflow: auto;}#sk-container-id-6 input.sk-toggleable__control:checked~label.sk-toggleable__label-arrow:before {content: \"▾\";}#sk-container-id-6 div.sk-estimator input.sk-toggleable__control:checked~label.sk-toggleable__label {background-color: #d4ebff;}#sk-container-id-6 div.sk-label input.sk-toggleable__control:checked~label.sk-toggleable__label {background-color: #d4ebff;}#sk-container-id-6 input.sk-hidden--visually {border: 0;clip: rect(1px 1px 1px 1px);clip: rect(1px, 1px, 1px, 1px);height: 1px;margin: -1px;overflow: hidden;padding: 0;position: absolute;width: 1px;}#sk-container-id-6 div.sk-estimator {font-family: monospace;background-color: #f0f8ff;border: 1px dotted black;border-radius: 0.25em;box-sizing: border-box;margin-bottom: 0.5em;}#sk-container-id-6 div.sk-estimator:hover {background-color: #d4ebff;}#sk-container-id-6 div.sk-parallel-item::after {content: \"\";width: 100%;border-bottom: 1px solid gray;flex-grow: 1;}#sk-container-id-6 div.sk-label:hover label.sk-toggleable__label {background-color: #d4ebff;}#sk-container-id-6 div.sk-serial::before {content: \"\";position: absolute;border-left: 1px solid gray;box-sizing: border-box;top: 0;bottom: 0;left: 50%;z-index: 0;}#sk-container-id-6 div.sk-serial {display: flex;flex-direction: column;align-items: center;background-color: white;padding-right: 0.2em;padding-left: 0.2em;position: relative;}#sk-container-id-6 div.sk-item {position: relative;z-index: 1;}#sk-container-id-6 div.sk-parallel {display: flex;align-items: stretch;justify-content: center;background-color: white;position: relative;}#sk-container-id-6 div.sk-item::before, #sk-container-id-6 div.sk-parallel-item::before {content: \"\";position: absolute;border-left: 1px solid gray;box-sizing: border-box;top: 0;bottom: 0;left: 50%;z-index: -1;}#sk-container-id-6 div.sk-parallel-item {display: flex;flex-direction: column;z-index: 1;position: relative;background-color: white;}#sk-container-id-6 div.sk-parallel-item:first-child::after {align-self: flex-end;width: 50%;}#sk-container-id-6 div.sk-parallel-item:last-child::after {align-self: flex-start;width: 50%;}#sk-container-id-6 div.sk-parallel-item:only-child::after {width: 0;}#sk-container-id-6 div.sk-dashed-wrapped {border: 1px dashed gray;margin: 0 0.4em 0.5em 0.4em;box-sizing: border-box;padding-bottom: 0.4em;background-color: white;}#sk-container-id-6 div.sk-label label {font-family: monospace;font-weight: bold;display: inline-block;line-height: 1.2em;}#sk-container-id-6 div.sk-label-container {text-align: center;}#sk-container-id-6 div.sk-container {/* jupyter's `normalize.less` sets `[hidden] { display: none; }` but bootstrap.min.css set `[hidden] { display: none !important; }` so we also need the `!important` here to be able to override the default hidden behavior on the sphinx rendered scikit-learn.org. See: https://github.com/scikit-learn/scikit-learn/issues/21755 */display: inline-block !important;position: relative;}#sk-container-id-6 div.sk-text-repr-fallback {display: none;}</style><div id=\"sk-container-id-6\" class=\"sk-top-container\"><div class=\"sk-text-repr-fallback\"><pre>GradientBoostingRegressor(alpha=0.001, max_depth=4, n_estimators=400,\n",
       "                          subsample=0.5)</pre><b>In a Jupyter environment, please rerun this cell to show the HTML representation or trust the notebook. <br />On GitHub, the HTML representation is unable to render, please try loading this page with nbviewer.org.</b></div><div class=\"sk-container\" hidden><div class=\"sk-item\"><div class=\"sk-estimator sk-toggleable\"><input class=\"sk-toggleable__control sk-hidden--visually\" id=\"sk-estimator-id-10\" type=\"checkbox\" checked><label for=\"sk-estimator-id-10\" class=\"sk-toggleable__label sk-toggleable__label-arrow\">GradientBoostingRegressor</label><div class=\"sk-toggleable__content\"><pre>GradientBoostingRegressor(alpha=0.001, max_depth=4, n_estimators=400,\n",
       "                          subsample=0.5)</pre></div></div></div></div></div>"
      ],
      "text/plain": [
       "GradientBoostingRegressor(alpha=0.001, max_depth=4, n_estimators=400,\n",
       "                          subsample=0.5)"
      ]
     },
     "execution_count": 256,
     "metadata": {},
     "output_type": "execute_result"
    }
   ],
   "source": [
    "GBR = GradientBoostingRegressor(n_estimators=400, alpha=0.001,learning_rate= 0.1, max_depth= 4, subsample = 0.5)\n",
    "GBR.fit(x_train, y_train)"
   ]
  },
  {
   "cell_type": "code",
   "execution_count": 257,
   "id": "1987f596",
   "metadata": {},
   "outputs": [
    {
     "name": "stdout",
     "output_type": "stream",
     "text": [
      "96.45924392037031\n"
     ]
    }
   ],
   "source": [
    "#prediction\n",
    "GBRpred = GBR.predict(x_test)\n",
    "#R2 score\n",
    "acc = r2_score(y_test,GBRpred)\n",
    "print(acc*100)"
   ]
  },
  {
   "cell_type": "code",
   "execution_count": 258,
   "id": "a95b23a2",
   "metadata": {},
   "outputs": [
    {
     "data": {
      "image/png": "[encoded data removed]",
      "text/plain": [
       "<Figure size 720x720 with 1 Axes>"
      ]
     },
     "metadata": {
      "needs_background": "light"
     },
     "output_type": "display_data"
    }
   ],
   "source": [
    "#Verifying the final  performance of the model by graph\n",
    "plt.figure(figsize=(10,10))\n",
    "sns.scatterplot(x=y_test,y=GBRpred,palette='Set2')\n",
    "sns.kdeplot(x=y_test,y=GBRpred, cmap='Set1')\n",
    "plt.plot(y_test,y_test,color='g')\n",
    "#Verifying the performance of the model by graph\n",
    "plt.xlabel(\"Actual Flight Price by GBR\")\n",
    "plt.ylabel(\"Predicted FLight Price by GBR\")\n",
    "plt.title(\" Final  metrics of  accuracy  from Hypertuning of Gradient boosting regressor\")\n",
    "plt.show()"
   ]
  },
  {
   "cell_type": "markdown",
   "id": "55d7e780",
   "metadata": {},
   "source": [
    "### The Random Forest regressor with GridsearchCV\n"
   ]
  },
  {
   "cell_type": "code",
   "execution_count": 259,
   "id": "b3281122",
   "metadata": {},
   "outputs": [],
   "source": [
    "parameter = {'n_estimators':[30,60,80],'max_depth': [10,20,40],\n",
    "             'min_samples_leaf':[5,10,20],'min_samples_split':[5,10],\n",
    "             'criterion':['mse','mae'],'max_features':[\"auto\",\"sqrt\",\"log2\"]}"
   ]
  },
  {
   "cell_type": "code",
   "execution_count": 260,
   "id": "e26500ac",
   "metadata": {},
   "outputs": [],
   "source": [
    "GCV = GridSearchCV(RandomForestRegressor(),parameter,cv=5,n_jobs = -1,verbose = 1)"
   ]
  },
  {
   "cell_type": "code",
   "execution_count": 261,
   "id": "6a576793",
   "metadata": {},
   "outputs": [
    {
     "name": "stdout",
     "output_type": "stream",
     "text": [
      "Fitting 5 folds for each of 324 candidates, totalling 1620 fits\n"
     ]
    },
    {
     "data": {
      "text/html": [
       "<style>#sk-container-id-7 {color: black;background-color: white;}#sk-container-id-7 pre{padding: 0;}#sk-container-id-7 div.sk-toggleable {background-color: white;}#sk-container-id-7 label.sk-toggleable__label {cursor: pointer;display: block;width: 100%;margin-bottom: 0;padding: 0.3em;box-sizing: border-box;text-align: center;}#sk-container-id-7 label.sk-toggleable__label-arrow:before {content: \"▸\";float: left;margin-right: 0.25em;color: #696969;}#sk-container-id-7 label.sk-toggleable__label-arrow:hover:before {color: black;}#sk-container-id-7 div.sk-estimator:hover label.sk-toggleable__label-arrow:before {color: black;}#sk-container-id-7 div.sk-toggleable__content {max-height: 0;max-width: 0;overflow: hidden;text-align: left;background-color: #f0f8ff;}#sk-container-id-7 div.sk-toggleable__content pre {margin: 0.2em;color: black;border-radius: 0.25em;background-color: #f0f8ff;}#sk-container-id-7 input.sk-toggleable__control:checked~div.sk-toggleable__content {max-height: 200px;max-width: 100%;overflow: auto;}#sk-container-id-7 input.sk-toggleable__control:checked~label.sk-toggleable__label-arrow:before {content: \"▾\";}#sk-container-id-7 div.sk-estimator input.sk-toggleable__control:checked~label.sk-toggleable__label {background-color: #d4ebff;}#sk-container-id-7 div.sk-label input.sk-toggleable__control:checked~label.sk-toggleable__label {background-color: #d4ebff;}#sk-container-id-7 input.sk-hidden--visually {border: 0;clip: rect(1px 1px 1px 1px);clip: rect(1px, 1px, 1px, 1px);height: 1px;margin: -1px;overflow: hidden;padding: 0;position: absolute;width: 1px;}#sk-container-id-7 div.sk-estimator {font-family: monospace;background-color: #f0f8ff;border: 1px dotted black;border-radius: 0.25em;box-sizing: border-box;margin-bottom: 0.5em;}#sk-container-id-7 div.sk-estimator:hover {background-color: #d4ebff;}#sk-container-id-7 div.sk-parallel-item::after {content: \"\";width: 100%;border-bottom: 1px solid gray;flex-grow: 1;}#sk-container-id-7 div.sk-label:hover label.sk-toggleable__label {background-color: #d4ebff;}#sk-container-id-7 div.sk-serial::before {content: \"\";position: absolute;border-left: 1px solid gray;box-sizing: border-box;top: 0;bottom: 0;left: 50%;z-index: 0;}#sk-container-id-7 div.sk-serial {display: flex;flex-direction: column;align-items: center;background-color: white;padding-right: 0.2em;padding-left: 0.2em;position: relative;}#sk-container-id-7 div.sk-item {position: relative;z-index: 1;}#sk-container-id-7 div.sk-parallel {display: flex;align-items: stretch;justify-content: center;background-color: white;position: relative;}#sk-container-id-7 div.sk-item::before, #sk-container-id-7 div.sk-parallel-item::before {content: \"\";position: absolute;border-left: 1px solid gray;box-sizing: border-box;top: 0;bottom: 0;left: 50%;z-index: -1;}#sk-container-id-7 div.sk-parallel-item {display: flex;flex-direction: column;z-index: 1;position: relative;background-color: white;}#sk-container-id-7 div.sk-parallel-item:first-child::after {align-self: flex-end;width: 50%;}#sk-container-id-7 div.sk-parallel-item:last-child::after {align-self: flex-start;width: 50%;}#sk-container-id-7 div.sk-parallel-item:only-child::after {width: 0;}#sk-container-id-7 div.sk-dashed-wrapped {border: 1px dashed gray;margin: 0 0.4em 0.5em 0.4em;box-sizing: border-box;padding-bottom: 0.4em;background-color: white;}#sk-container-id-7 div.sk-label label {font-family: monospace;font-weight: bold;display: inline-block;line-height: 1.2em;}#sk-container-id-7 div.sk-label-container {text-align: center;}#sk-container-id-7 div.sk-container {/* jupyter's `normalize.less` sets `[hidden] { display: none; }` but bootstrap.min.css set `[hidden] { display: none !important; }` so we also need the `!important` here to be able to override the default hidden behavior on the sphinx rendered scikit-learn.org. See: https://github.com/scikit-learn/scikit-learn/issues/21755 */display: inline-block !important;position: relative;}#sk-container-id-7 div.sk-text-repr-fallback {display: none;}</style><div id=\"sk-container-id-7\" class=\"sk-top-container\"><div class=\"sk-text-repr-fallback\"><pre>GridSearchCV(cv=5, estimator=RandomForestRegressor(), n_jobs=-1,\n",
       "             param_grid={&#x27;criterion&#x27;: [&#x27;mse&#x27;, &#x27;mae&#x27;], &#x27;max_depth&#x27;: [10, 20, 40],\n",
       "                         &#x27;max_features&#x27;: [&#x27;auto&#x27;, &#x27;sqrt&#x27;, &#x27;log2&#x27;],\n",
       "                         &#x27;min_samples_leaf&#x27;: [5, 10, 20],\n",
       "                         &#x27;min_samples_split&#x27;: [5, 10],\n",
       "                         &#x27;n_estimators&#x27;: [30, 60, 80]},\n",
       "             verbose=1)</pre><b>In a Jupyter environment, please rerun this cell to show the HTML representation or trust the notebook. <br />On GitHub, the HTML representation is unable to render, please try loading this page with nbviewer.org.</b></div><div class=\"sk-container\" hidden><div class=\"sk-item sk-dashed-wrapped\"><div class=\"sk-label-container\"><div class=\"sk-label sk-toggleable\"><input class=\"sk-toggleable__control sk-hidden--visually\" id=\"sk-estimator-id-11\" type=\"checkbox\" ><label for=\"sk-estimator-id-11\" class=\"sk-toggleable__label sk-toggleable__label-arrow\">GridSearchCV</label><div class=\"sk-toggleable__content\"><pre>GridSearchCV(cv=5, estimator=RandomForestRegressor(), n_jobs=-1,\n",
       "             param_grid={&#x27;criterion&#x27;: [&#x27;mse&#x27;, &#x27;mae&#x27;], &#x27;max_depth&#x27;: [10, 20, 40],\n",
       "                         &#x27;max_features&#x27;: [&#x27;auto&#x27;, &#x27;sqrt&#x27;, &#x27;log2&#x27;],\n",
       "                         &#x27;min_samples_leaf&#x27;: [5, 10, 20],\n",
       "                         &#x27;min_samples_split&#x27;: [5, 10],\n",
       "                         &#x27;n_estimators&#x27;: [30, 60, 80]},\n",
       "             verbose=1)</pre></div></div></div><div class=\"sk-parallel\"><div class=\"sk-parallel-item\"><div class=\"sk-item\"><div class=\"sk-label-container\"><div class=\"sk-label sk-toggleable\"><input class=\"sk-toggleable__control sk-hidden--visually\" id=\"sk-estimator-id-12\" type=\"checkbox\" ><label for=\"sk-estimator-id-12\" class=\"sk-toggleable__label sk-toggleable__label-arrow\">estimator: RandomForestRegressor</label><div class=\"sk-toggleable__content\"><pre>RandomForestRegressor()</pre></div></div></div><div class=\"sk-serial\"><div class=\"sk-item\"><div class=\"sk-estimator sk-toggleable\"><input class=\"sk-toggleable__control sk-hidden--visually\" id=\"sk-estimator-id-13\" type=\"checkbox\" ><label for=\"sk-estimator-id-13\" class=\"sk-toggleable__label sk-toggleable__label-arrow\">RandomForestRegressor</label><div class=\"sk-toggleable__content\"><pre>RandomForestRegressor()</pre></div></div></div></div></div></div></div></div></div></div>"
      ],
      "text/plain": [
       "GridSearchCV(cv=5, estimator=RandomForestRegressor(), n_jobs=-1,\n",
       "             param_grid={'criterion': ['mse', 'mae'], 'max_depth': [10, 20, 40],\n",
       "                         'max_features': ['auto', 'sqrt', 'log2'],\n",
       "                         'min_samples_leaf': [5, 10, 20],\n",
       "                         'min_samples_split': [5, 10],\n",
       "                         'n_estimators': [30, 60, 80]},\n",
       "             verbose=1)"
      ]
     },
     "execution_count": 261,
     "metadata": {},
     "output_type": "execute_result"
    }
   ],
   "source": [
    "GCV.fit(x_train,y_train)"
   ]
  },
  {
   "cell_type": "code",
   "execution_count": 262,
   "id": "95e6ddf1",
   "metadata": {},
   "outputs": [
    {
     "data": {
      "text/plain": [
       "{'criterion': 'mse',\n",
       " 'max_depth': 20,\n",
       " 'max_features': 'auto',\n",
       " 'min_samples_leaf': 5,\n",
       " 'min_samples_split': 5,\n",
       " 'n_estimators': 80}"
      ]
     },
     "execution_count": 262,
     "metadata": {},
     "output_type": "execute_result"
    }
   ],
   "source": [
    "GCV.best_params_"
   ]
  },
  {
   "cell_type": "markdown",
   "id": "8207909b",
   "metadata": {},
   "source": [
    "### Creating Regressor Model with Random Forest Regressor\n"
   ]
  },
  {
   "cell_type": "code",
   "execution_count": 263,
   "id": "88eb467c",
   "metadata": {},
   "outputs": [
    {
     "data": {
      "text/html": [
       "<style>#sk-container-id-8 {color: black;background-color: white;}#sk-container-id-8 pre{padding: 0;}#sk-container-id-8 div.sk-toggleable {background-color: white;}#sk-container-id-8 label.sk-toggleable__label {cursor: pointer;display: block;width: 100%;margin-bottom: 0;padding: 0.3em;box-sizing: border-box;text-align: center;}#sk-container-id-8 label.sk-toggleable__label-arrow:before {content: \"▸\";float: left;margin-right: 0.25em;color: #696969;}#sk-container-id-8 label.sk-toggleable__label-arrow:hover:before {color: black;}#sk-container-id-8 div.sk-estimator:hover label.sk-toggleable__label-arrow:before {color: black;}#sk-container-id-8 div.sk-toggleable__content {max-height: 0;max-width: 0;overflow: hidden;text-align: left;background-color: #f0f8ff;}#sk-container-id-8 div.sk-toggleable__content pre {margin: 0.2em;color: black;border-radius: 0.25em;background-color: #f0f8ff;}#sk-container-id-8 input.sk-toggleable__control:checked~div.sk-toggleable__content {max-height: 200px;max-width: 100%;overflow: auto;}#sk-container-id-8 input.sk-toggleable__control:checked~label.sk-toggleable__label-arrow:before {content: \"▾\";}#sk-container-id-8 div.sk-estimator input.sk-toggleable__control:checked~label.sk-toggleable__label {background-color: #d4ebff;}#sk-container-id-8 div.sk-label input.sk-toggleable__control:checked~label.sk-toggleable__label {background-color: #d4ebff;}#sk-container-id-8 input.sk-hidden--visually {border: 0;clip: rect(1px 1px 1px 1px);clip: rect(1px, 1px, 1px, 1px);height: 1px;margin: -1px;overflow: hidden;padding: 0;position: absolute;width: 1px;}#sk-container-id-8 div.sk-estimator {font-family: monospace;background-color: #f0f8ff;border: 1px dotted black;border-radius: 0.25em;box-sizing: border-box;margin-bottom: 0.5em;}#sk-container-id-8 div.sk-estimator:hover {background-color: #d4ebff;}#sk-container-id-8 div.sk-parallel-item::after {content: \"\";width: 100%;border-bottom: 1px solid gray;flex-grow: 1;}#sk-container-id-8 div.sk-label:hover label.sk-toggleable__label {background-color: #d4ebff;}#sk-container-id-8 div.sk-serial::before {content: \"\";position: absolute;border-left: 1px solid gray;box-sizing: border-box;top: 0;bottom: 0;left: 50%;z-index: 0;}#sk-container-id-8 div.sk-serial {display: flex;flex-direction: column;align-items: center;background-color: white;padding-right: 0.2em;padding-left: 0.2em;position: relative;}#sk-container-id-8 div.sk-item {position: relative;z-index: 1;}#sk-container-id-8 div.sk-parallel {display: flex;align-items: stretch;justify-content: center;background-color: white;position: relative;}#sk-container-id-8 div.sk-item::before, #sk-container-id-8 div.sk-parallel-item::before {content: \"\";position: absolute;border-left: 1px solid gray;box-sizing: border-box;top: 0;bottom: 0;left: 50%;z-index: -1;}#sk-container-id-8 div.sk-parallel-item {display: flex;flex-direction: column;z-index: 1;position: relative;background-color: white;}#sk-container-id-8 div.sk-parallel-item:first-child::after {align-self: flex-end;width: 50%;}#sk-container-id-8 div.sk-parallel-item:last-child::after {align-self: flex-start;width: 50%;}#sk-container-id-8 div.sk-parallel-item:only-child::after {width: 0;}#sk-container-id-8 div.sk-dashed-wrapped {border: 1px dashed gray;margin: 0 0.4em 0.5em 0.4em;box-sizing: border-box;padding-bottom: 0.4em;background-color: white;}#sk-container-id-8 div.sk-label label {font-family: monospace;font-weight: bold;display: inline-block;line-height: 1.2em;}#sk-container-id-8 div.sk-label-container {text-align: center;}#sk-container-id-8 div.sk-container {/* jupyter's `normalize.less` sets `[hidden] { display: none; }` but bootstrap.min.css set `[hidden] { display: none !important; }` so we also need the `!important` here to be able to override the default hidden behavior on the sphinx rendered scikit-learn.org. See: https://github.com/scikit-learn/scikit-learn/issues/21755 */display: inline-block !important;position: relative;}#sk-container-id-8 div.sk-text-repr-fallback {display: none;}</style><div id=\"sk-container-id-8\" class=\"sk-top-container\"><div class=\"sk-text-repr-fallback\"><pre>RandomForestRegressor(criterion=&#x27;mse&#x27;, max_depth=6, max_features=&#x27;auto&#x27;,\n",
       "                      n_estimators=200, random_state=50)</pre><b>In a Jupyter environment, please rerun this cell to show the HTML representation or trust the notebook. <br />On GitHub, the HTML representation is unable to render, please try loading this page with nbviewer.org.</b></div><div class=\"sk-container\" hidden><div class=\"sk-item\"><div class=\"sk-estimator sk-toggleable\"><input class=\"sk-toggleable__control sk-hidden--visually\" id=\"sk-estimator-id-14\" type=\"checkbox\" checked><label for=\"sk-estimator-id-14\" class=\"sk-toggleable__label sk-toggleable__label-arrow\">RandomForestRegressor</label><div class=\"sk-toggleable__content\"><pre>RandomForestRegressor(criterion=&#x27;mse&#x27;, max_depth=6, max_features=&#x27;auto&#x27;,\n",
       "                      n_estimators=200, random_state=50)</pre></div></div></div></div></div>"
      ],
      "text/plain": [
       "RandomForestRegressor(criterion='mse', max_depth=6, max_features='auto',\n",
       "                      n_estimators=200, random_state=50)"
      ]
     },
     "execution_count": 263,
     "metadata": {},
     "output_type": "execute_result"
    }
   ],
   "source": [
    "RFR = RandomForestRegressor(random_state=50, max_features='auto', n_estimators= 200, max_depth=6, criterion='mse')\n",
    "RFR.fit(x_train, y_train)"
   ]
  },
  {
   "cell_type": "code",
   "execution_count": 264,
   "id": "efcf82c4",
   "metadata": {},
   "outputs": [
    {
     "name": "stdout",
     "output_type": "stream",
     "text": [
      "96.1050503129933\n"
     ]
    }
   ],
   "source": [
    "#prediction\n",
    "RFRpred = RFR.predict(x_test)\n",
    "#R2 score\n",
    "acc = r2_score(y_test,RFRpred)\n",
    "print(acc*100)"
   ]
  },
  {
   "cell_type": "code",
   "execution_count": 265,
   "id": "e1c8570c",
   "metadata": {},
   "outputs": [
    {
     "data": {
      "image/png": "[encoded data removed]",
      "text/plain": [
       "<Figure size 720x720 with 1 Axes>"
      ]
     },
     "metadata": {
      "needs_background": "light"
     },
     "output_type": "display_data"
    }
   ],
   "source": [
    "#Verifying the final  performance of the model by graph\n",
    "plt.figure(figsize=(10,10))\n",
    "sns.scatterplot(x=y_test,y=RFRpred,palette='Set2')\n",
    "sns.kdeplot(x=y_test,y=RFRpred, cmap='Set1')\n",
    "plt.plot(y_test,y_test,color='g')\n",
    "#Verifying the performance of the model by graph\n",
    "plt.xlabel(\"Actual Price by RFR\")\n",
    "plt.ylabel(\"Predicted Price by RFR\")\n",
    "plt.title(\" Final  metrics of  accuracy  from Hypertuning of Random Forest Regressor\")\n",
    "plt.show()\n"
   ]
  },
  {
   "cell_type": "markdown",
   "id": "d668d32e",
   "metadata": {},
   "source": [
    "### Saving The Predictive Model\n"
   ]
  },
  {
   "cell_type": "code",
   "execution_count": 266,
   "id": "4f5e65e7",
   "metadata": {},
   "outputs": [
    {
     "data": {
      "text/plain": [
       "array([12496.98526587,  9731.14059416, 12480.86982193, 12485.03109331,\n",
       "       12496.99114206, 12476.62220721, 12495.33847687,  8085.36177757,\n",
       "       12485.03109331, 12499.93758076, 12496.24802507, 12493.22295998,\n",
       "       12493.22295998, 12497.76685031, 12498.19607534,  9254.35183468,\n",
       "        5978.33520635, 12496.24802507, 12499.15599633, 12476.62220721,\n",
       "       12479.30501329, 12499.32922116, 12486.19449868, 12479.30501329,\n",
       "       12493.22295998, 12500.07781001, 12494.43964564, 12494.00454441,\n",
       "       12494.00454441, 12478.18701585, 12498.55351291, 12486.19449868,\n",
       "       12493.22883617, 12498.97765978,  6557.14606876, 12494.43376945,\n",
       "       12496.99114206, 12470.63037456, 12494.00454441, 12494.43964564,\n",
       "       12486.59590195, 12500.54003063, 12498.19607534, 12493.22295998,\n",
       "       12462.49976874, 12498.97765978, 12485.03109331, 12493.22883617,\n",
       "        9336.29697033, 12499.75844619, 12470.50725157, 12499.29622557,\n",
       "       12493.22883617, 12480.86982193, 12480.86982193, 12499.29622557,\n",
       "       12486.59590195, 12498.19607534, 12496.24802507, 12494.55689243,\n",
       "       12496.99114206, 12498.97765978,  9692.72431975, 12485.03109331,\n",
       "       12493.22883617, 12466.38845772, 12494.43964564, 12491.78371211,\n",
       "       12493.22883617,  8144.18335751, 12491.78371211, 12485.03109331,\n",
       "       12496.25390126, 12496.24802507, 12496.11367201, 12493.22883617,\n",
       "       12479.30501329, 12486.59590195, 12493.22883617, 12496.88938026,\n",
       "       12496.24802507, 12498.19607534, 12484.62969004, 12493.22883617,\n",
       "       12473.75495214, 12462.49976874, 12500.07781001, 12486.59590195,\n",
       "       12492.99452158, 12494.00454441, 12493.77610602, 12476.75102809,\n",
       "       12493.22883617, 12476.75102809, 12462.49976874, 12494.43376945,\n",
       "       12470.50725157, 12498.73445834, 12485.03109331, 12470.50725157,\n",
       "       12479.30501329, 12486.59590195, 12493.22883617, 12499.93758076,\n",
       "       12475.18621945, 12499.75844619, 12499.32922116, 12491.7895883 ,\n",
       "       12496.98526587,  5888.39326147, 12498.97765978, 12290.98356399,\n",
       "       12462.49976874, 12499.15599633, 12496.46196609,  5962.31790925,\n",
       "       12494.43376945, 12499.93758076, 12484.62969004, 12494.00454441,\n",
       "       12478.18701585, 12498.97765978, 12498.54763672, 12475.18621945,\n",
       "       12496.88938026, 12499.93758076, 12466.38845772, 12494.43376945,\n",
       "       12499.15599633, 12493.22295998, 12480.99294492, 12471.29753046,\n",
       "       12466.38845772, 12473.75495214, 12496.88938026, 12496.99114206,\n",
       "       12499.16187252, 12495.21535388, 12470.50725157, 12494.43964564,\n",
       "       12498.73445834, 12496.98526587, 12494.00454441, 12499.15599633,\n",
       "       12494.00454441, 12493.22883617, 12484.62969004, 12479.30501329,\n",
       "       12499.16187252, 12493.22883617, 12498.73445834, 12495.21535388,\n",
       "       12498.97765978, 12499.76432238, 12495.68038165, 12496.99114206,\n",
       "       12494.00454441, 12499.93758076, 12494.43964564, 12486.59590195,\n",
       "       12499.15599633, 12492.99452158, 12486.19449868, 12495.21535388,\n",
       "       12470.50725157, 12476.75102809, 12499.30210176, 12500.07781001,\n",
       "       12493.22883617,  9244.13538788, 12496.24802507, 12496.24802507,\n",
       "       12475.18621945, 12479.42813628,  7914.31939416, 12493.34608296,\n",
       "       12498.19607534, 12486.59590195,  8671.51145211, 12495.21535388,\n",
       "        5835.88744204, 12499.93758076, 12496.24802507, 12494.00454441,\n",
       "       12466.38845772, 12494.43964564, 12498.72858216, 12479.30501329,\n",
       "       12498.97765978, 12470.50725157, 12494.55689243,  9731.14059416,\n",
       "       12499.30210176, 12498.54763672, 12496.25390126,  9336.29697033,\n",
       "       12479.30501329, 12499.32922116, 12470.50725157, 12496.98526587,\n",
       "       12496.24802507, 12494.43964564,  6091.68308279, 12494.43376945,\n",
       "       12494.43376945, 12498.72858216, 12500.07781001, 12493.22883617,\n",
       "       12476.75102809, 12462.49976874, 12479.30501329, 12493.22883617,\n",
       "       12486.19449868, 12475.18621945, 12499.32922116,  8712.87514077,\n",
       "       12498.19607534, 12496.88938026, 12486.19449868,  8085.36177757,\n",
       "       12466.38845772, 12462.49976874, 12494.43376945,  9254.35183468,\n",
       "       12494.43964564, 12475.83192832, 12496.99114206,  9140.22918163,\n",
       "       10264.98400575, 12486.59590195,  7422.31341115, 12494.43376945,\n",
       "       12485.03109331, 12471.29753046, 12494.43376945, 12493.22883617,\n",
       "       12499.75844619, 12499.76432238, 12486.19449868, 12476.23333159,\n",
       "       12499.30210176, 12494.43376945, 12476.62220721, 12462.49976874,\n",
       "        5999.96404103, 12495.21535388, 12480.86982193,  9284.35609296,\n",
       "       12493.22883617, 12496.88938026,  9336.29697033, 12499.76432238,\n",
       "       12470.50725157, 12485.03109331, 12496.10779583, 12493.22883617,\n",
       "       12480.99294492, 12499.30210176, 12479.42813628, 12494.43376945,\n",
       "       12462.49976874, 12496.11367201,  9336.29697033, 12494.43376945,\n",
       "       12499.76432238, 12493.22883617, 12480.86982193, 12464.95719042,\n",
       "       12484.62969004, 12493.22883617, 12494.43376945, 12480.86982193,\n",
       "       12475.18621945, 12494.43376945, 12498.97765978, 12479.30501329,\n",
       "       12485.03109331, 12467.82444549, 12476.23333159, 12493.22295998,\n",
       "       12486.19449868, 12471.42065345, 12486.59590195, 12472.8623391 ,\n",
       "       12476.75102809, 12285.25748397, 12493.22295998, 12462.49976874,\n",
       "       12476.75102809, 12478.18701585, 12466.38845772, 12494.43964564,\n",
       "       12499.16187252, 12484.62969004, 12493.77610602, 12496.88938026,\n",
       "       12475.18621945, 12498.19607534, 12479.30501329, 12494.43964564])"
      ]
     },
     "execution_count": 266,
     "metadata": {},
     "output_type": "execute_result"
    }
   ],
   "source": [
    "#saving the model at local file system\n",
    "filename='flight_price_prediction.pickle'\n",
    "pickle.dump(CV_GBR,open(filename,'wb'))\n",
    "#prediction using the saved model\n",
    "loaded_model = pickle.load(open(filename, 'rb'))\n",
    "loaded_model.predict(x_test)"
   ]
  },
  {
   "cell_type": "code",
   "execution_count": 267,
   "id": "e2d4ddda",
   "metadata": {},
   "outputs": [
    {
     "data": {
      "text/html": [
       "<div>\n",
       "<style scoped>\n",
       "    .dataframe tbody tr th:only-of-type {\n",
       "        vertical-align: middle;\n",
       "    }\n",
       "\n",
       "    .dataframe tbody tr th {\n",
       "        vertical-align: top;\n",
       "    }\n",
       "\n",
       "    .dataframe thead th {\n",
       "        text-align: right;\n",
       "    }\n",
       "</style>\n",
       "<table border=\"1\" class=\"dataframe\">\n",
       "  <thead>\n",
       "    <tr style=\"text-align: right;\">\n",
       "      <th></th>\n",
       "      <th>Original</th>\n",
       "      <th>Predicted</th>\n",
       "    </tr>\n",
       "  </thead>\n",
       "  <tbody>\n",
       "    <tr>\n",
       "      <th>0</th>\n",
       "      <td>12506</td>\n",
       "      <td>12496.985266</td>\n",
       "    </tr>\n",
       "    <tr>\n",
       "      <th>1</th>\n",
       "      <td>10229</td>\n",
       "      <td>9731.140594</td>\n",
       "    </tr>\n",
       "    <tr>\n",
       "      <th>2</th>\n",
       "      <td>12506</td>\n",
       "      <td>12480.869822</td>\n",
       "    </tr>\n",
       "    <tr>\n",
       "      <th>3</th>\n",
       "      <td>12506</td>\n",
       "      <td>12485.031093</td>\n",
       "    </tr>\n",
       "    <tr>\n",
       "      <th>4</th>\n",
       "      <td>12506</td>\n",
       "      <td>12496.991142</td>\n",
       "    </tr>\n",
       "    <tr>\n",
       "      <th>...</th>\n",
       "      <td>...</td>\n",
       "      <td>...</td>\n",
       "    </tr>\n",
       "    <tr>\n",
       "      <th>295</th>\n",
       "      <td>12506</td>\n",
       "      <td>12496.889380</td>\n",
       "    </tr>\n",
       "    <tr>\n",
       "      <th>296</th>\n",
       "      <td>12506</td>\n",
       "      <td>12475.186219</td>\n",
       "    </tr>\n",
       "    <tr>\n",
       "      <th>297</th>\n",
       "      <td>12506</td>\n",
       "      <td>12498.196075</td>\n",
       "    </tr>\n",
       "    <tr>\n",
       "      <th>298</th>\n",
       "      <td>12506</td>\n",
       "      <td>12479.305013</td>\n",
       "    </tr>\n",
       "    <tr>\n",
       "      <th>299</th>\n",
       "      <td>12506</td>\n",
       "      <td>12494.439646</td>\n",
       "    </tr>\n",
       "  </tbody>\n",
       "</table>\n",
       "<p>300 rows × 2 columns</p>\n",
       "</div>"
      ],
      "text/plain": [
       "     Original     Predicted\n",
       "0       12506  12496.985266\n",
       "1       10229   9731.140594\n",
       "2       12506  12480.869822\n",
       "3       12506  12485.031093\n",
       "4       12506  12496.991142\n",
       "..        ...           ...\n",
       "295     12506  12496.889380\n",
       "296     12506  12475.186219\n",
       "297     12506  12498.196075\n",
       "298     12506  12479.305013\n",
       "299     12506  12494.439646\n",
       "\n",
       "[300 rows x 2 columns]"
      ]
     },
     "execution_count": 267,
     "metadata": {},
     "output_type": "execute_result"
    }
   ],
   "source": [
    "a = np.array(y_test)\n",
    "predict = np.array(loaded_model.predict(x_test))\n",
    "flight_price_prediction = pd.DataFrame({\"Original\":a,\"Predicted\":predict},index= range(len(a)))\n",
    "flight_price_prediction"
   ]
  },
  {
   "cell_type": "markdown",
   "id": "504cd114",
   "metadata": {},
   "source": [
    "### Let's plot and visualize\n"
   ]
  },
  {
   "cell_type": "code",
   "execution_count": 268,
   "id": "1dd02cb6",
   "metadata": {},
   "outputs": [
    {
     "data": {
      "text/plain": [
       "Text(0.5, 1.0, 'Original vs predicted  graph')"
      ]
     },
     "execution_count": 268,
     "metadata": {},
     "output_type": "execute_result"
    },
    {
     "data": {
      "image/png": "[encoded data removed]",
      "text/plain": [
       "<Figure size 1080x864 with 1 Axes>"
      ]
     },
     "metadata": {
      "needs_background": "light"
     },
     "output_type": "display_data"
    }
   ],
   "source": [
    "plt.figure(figsize=(15,12))\n",
    "sns.kdeplot(data=flight_price_prediction, palette='gnuplot',gridsize=900, shade=True)\n",
    "plt.title('Original vs predicted  graph')"
   ]
  },
  {
   "cell_type": "code",
   "execution_count": 269,
   "id": "4697bde5",
   "metadata": {},
   "outputs": [
    {
     "data": {
      "image/png": "[encoded data removed]",
      "text/plain": [
       "<Figure size 576x576 with 1 Axes>"
      ]
     },
     "metadata": {
      "needs_background": "light"
     },
     "output_type": "display_data"
    }
   ],
   "source": [
    "plt.figure(figsize=(8,8))\n",
    "plt.scatter(y_test,predict,c='r')\n",
    "plt1 = max(max(predict),max(y_test))\n",
    "plt2 = min(min(predict),min(y_test))\n",
    "plt.plot([plt1,plt2],[plt1,plt2],'b-')\n",
    "plt.xlabel('Actual Flight Price',fontsize=15)\n",
    "plt.ylabel('Predicted Flight Price',fontsize=15)\n",
    "plt.title(\"Gradient Boosting Regressor\")\n",
    "plt.show()"
   ]
  },
  {
   "cell_type": "markdown",
   "id": "8ba77a80",
   "metadata": {},
   "source": [
    "### Saving the model in CSV format\n"
   ]
  },
  {
   "cell_type": "code",
   "execution_count": 270,
   "id": "f3497fb4",
   "metadata": {},
   "outputs": [],
   "source": [
    "model =flight_price_prediction.to_csv('flight_price_prediction.csv')\n",
    "model"
   ]
  },
  {
   "cell_type": "code",
   "execution_count": null,
   "id": "e96a1d49",
   "metadata": {},
   "outputs": [],
   "source": []
  }
 ],
 "metadata": {
  "kernelspec": {
   "display_name": "Python 3 (ipykernel)",
   "language": "python",
   "name": "python3"
  },
  "language_info": {
   "codemirror_mode": {
    "name": "ipython",
    "version": 3
   },
   "file_extension": ".py",
   "mimetype": "text/x-python",
   "name": "python",
   "nbconvert_exporter": "python",
   "pygments_lexer": "ipython3",
   "version": "3.9.7"
  }
 },
 "nbformat": 4,
 "nbformat_minor": 5
}
